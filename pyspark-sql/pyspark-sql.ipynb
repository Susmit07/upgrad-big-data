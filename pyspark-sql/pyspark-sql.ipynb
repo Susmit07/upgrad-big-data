{
 "cells": [
  {
   "cell_type": "code",
   "execution_count": 62,
   "id": "b6fe9bf2-6094-4e51-a2c8-0fbce20dc4bb",
   "metadata": {
    "execution": {
     "iopub.execute_input": "2022-05-19T15:48:26.158558Z",
     "iopub.status.busy": "2022-05-19T15:48:26.158336Z",
     "iopub.status.idle": "2022-05-19T15:48:26.214230Z",
     "shell.execute_reply": "2022-05-19T15:48:26.213648Z",
     "shell.execute_reply.started": "2022-05-19T15:48:26.158534Z"
    },
    "tags": []
   },
   "outputs": [
    {
     "data": {
      "application/vnd.jupyter.widget-view+json": {
       "model_id": "9b3c53f8f6ed47649aaf26ce02073081",
       "version_major": 2,
       "version_minor": 0
      },
      "text/plain": [
       "VBox()"
      ]
     },
     "metadata": {},
     "output_type": "display_data"
    },
    {
     "data": {
      "application/vnd.jupyter.widget-view+json": {
       "model_id": "",
       "version_major": 2,
       "version_minor": 0
      },
      "text/plain": [
       "FloatProgress(value=0.0, bar_style='info', description='Progress:', layout=Layout(height='25px', width='50%'),…"
      ]
     },
     "metadata": {},
     "output_type": "display_data"
    }
   ],
   "source": [
    "from pyspark.sql import *\n"
   ]
  },
  {
   "cell_type": "code",
   "execution_count": 53,
   "id": "9ada48ae-4129-45c0-92a9-e809104599df",
   "metadata": {
    "execution": {
     "iopub.execute_input": "2022-05-19T15:48:29.128676Z",
     "iopub.status.busy": "2022-05-19T15:48:29.128331Z",
     "iopub.status.idle": "2022-05-19T15:48:29.200347Z",
     "shell.execute_reply": "2022-05-19T15:48:29.199580Z",
     "shell.execute_reply.started": "2022-05-19T15:48:29.128637Z"
    },
    "tags": []
   },
   "outputs": [
    {
     "data": {
      "application/vnd.jupyter.widget-view+json": {
       "model_id": "f78e36bb0e404f098b6e2efb09e41dea",
       "version_major": 2,
       "version_minor": 0
      },
      "text/plain": [
       "VBox()"
      ]
     },
     "metadata": {},
     "output_type": "display_data"
    },
    {
     "data": {
      "application/vnd.jupyter.widget-view+json": {
       "model_id": "",
       "version_major": 2,
       "version_minor": 0
      },
      "text/plain": [
       "FloatProgress(value=0.0, bar_style='info', description='Progress:', layout=Layout(height='25px', width='50%'),…"
      ]
     },
     "metadata": {},
     "output_type": "display_data"
    }
   ],
   "source": [
    "jobsSchema = StructType([\n",
    "    StructField(\"Job_Role\", StringType()),\n",
    "    StructField(\"Company\", StringType()),\n",
    "    StructField(\"Location\", StringType()),\n",
    "    StructField(\"Job_Experience\", StringType()),\n",
    "    StructField(\"Skills_&_Description\", StringType())\n",
    "])"
   ]
  },
  {
   "cell_type": "code",
   "execution_count": 54,
   "id": "16b13a53-4f86-44c2-9663-6136dca0594a",
   "metadata": {
    "execution": {
     "iopub.execute_input": "2022-05-19T15:48:31.837955Z",
     "iopub.status.busy": "2022-05-19T15:48:31.837725Z",
     "iopub.status.idle": "2022-05-19T15:48:32.133538Z",
     "shell.execute_reply": "2022-05-19T15:48:32.132745Z",
     "shell.execute_reply.started": "2022-05-19T15:48:31.837932Z"
    },
    "tags": []
   },
   "outputs": [
    {
     "data": {
      "application/vnd.jupyter.widget-view+json": {
       "model_id": "9eddc0b582bd4cbead616ce5af526b58",
       "version_major": 2,
       "version_minor": 0
      },
      "text/plain": [
       "VBox()"
      ]
     },
     "metadata": {},
     "output_type": "display_data"
    },
    {
     "data": {
      "application/vnd.jupyter.widget-view+json": {
       "model_id": "",
       "version_major": 2,
       "version_minor": 0
      },
      "text/plain": [
       "FloatProgress(value=0.0, bar_style='info', description='Progress:', layout=Layout(height='25px', width='50%'),…"
      ]
     },
     "metadata": {},
     "output_type": "display_data"
    },
    {
     "name": "stdout",
     "output_type": "stream",
     "text": [
      "+------------+\n",
      "|databaseName|\n",
      "+------------+\n",
      "|     default|\n",
      "|      upgrad|\n",
      "+------------+"
     ]
    }
   ],
   "source": [
    "# Create DB and use it.\n",
    "spark.sql(\"drop database if EXISTS upgrad\")\n",
    "spark.sql(\"create database upgrad\")\n",
    "spark.sql(\"use upgrad\")\n",
    "databasesDF = spark.sql(\"show databases\")\n",
    "databasesDF.show()"
   ]
  },
  {
   "cell_type": "code",
   "execution_count": 57,
   "id": "cc684346-2f7a-46a5-883e-514c90e3cbb0",
   "metadata": {
    "execution": {
     "iopub.execute_input": "2022-05-19T15:52:08.017159Z",
     "iopub.status.busy": "2022-05-19T15:52:08.016926Z",
     "iopub.status.idle": "2022-05-19T15:52:19.368255Z",
     "shell.execute_reply": "2022-05-19T15:52:19.367506Z",
     "shell.execute_reply.started": "2022-05-19T15:52:08.017135Z"
    },
    "tags": []
   },
   "outputs": [
    {
     "data": {
      "application/vnd.jupyter.widget-view+json": {
       "model_id": "793bb33cefb74d6485ba787460f5cb40",
       "version_major": 2,
       "version_minor": 0
      },
      "text/plain": [
       "VBox()"
      ]
     },
     "metadata": {},
     "output_type": "display_data"
    },
    {
     "data": {
      "application/vnd.jupyter.widget-view+json": {
       "model_id": "",
       "version_major": 2,
       "version_minor": 0
      },
      "text/plain": [
       "FloatProgress(value=0.0, bar_style='info', description='Progress:', layout=Layout(height='25px', width='50%'),…"
      ]
     },
     "metadata": {},
     "output_type": "display_data"
    }
   ],
   "source": [
    "# header = true, to it will use the first row in the csv file as the dataframe's column names\n",
    "jobsDf = spark.read.csv(\"s3://kaggle-dataset-pyspark/naukri_data_science_jobs_india.csv\", jobsSchema)\n",
    "jobsDf.createOrReplaceTempView(\"naukri_ds_jobs\")\n",
    "jobsDf.write.mode(\"overwrite\").saveAsTable(\"naukri_ds_jobs\")"
   ]
  },
  {
   "cell_type": "code",
   "execution_count": 18,
   "id": "a04b29e9-fee3-4b19-b8dc-43423c41694d",
   "metadata": {
    "execution": {
     "iopub.execute_input": "2022-05-19T16:18:24.976582Z",
     "iopub.status.busy": "2022-05-19T16:18:24.976346Z",
     "iopub.status.idle": "2022-05-19T16:18:34.307414Z",
     "shell.execute_reply": "2022-05-19T16:18:34.306650Z",
     "shell.execute_reply.started": "2022-05-19T16:18:24.976559Z"
    },
    "tags": []
   },
   "outputs": [
    {
     "data": {
      "application/vnd.jupyter.widget-view+json": {
       "model_id": "e7df30f81b684f89bdf94329c3cd25cc",
       "version_major": 2,
       "version_minor": 0
      },
      "text/plain": [
       "VBox()"
      ]
     },
     "metadata": {},
     "output_type": "display_data"
    },
    {
     "data": {
      "application/vnd.jupyter.widget-view+json": {
       "model_id": "",
       "version_major": 2,
       "version_minor": 0
      },
      "text/plain": [
       "FloatProgress(value=0.0, bar_style='info', description='Progress:', layout=Layout(height='25px', width='50%'),…"
      ]
     },
     "metadata": {},
     "output_type": "display_data"
    },
    {
     "name": "stdout",
     "output_type": "stream",
     "text": [
      "+--------------------+-------+-------------------+--------------+--------------------+\n",
      "|            Job_Role|Company|           Location|Job_Experience|Skills_&_Description|\n",
      "+--------------------+-------+-------------------+--------------+--------------------+\n",
      "|Data Scientist: A...|    IBM|Bangalore/Bengaluru|        06-Nov|Scheduling, big d...|\n",
      "|Staff Data Scientist|Walmart|Bangalore/Bengaluru|        04-Aug|IT Skills, Data S...|\n",
      "|Data Scientist-Cl...|    IBM|             Mumbai|        05-Oct|Consulting, Machi...|\n",
      "|Senior Data Scien...|Walmart|Bangalore/Bengaluru|        05-Oct|IT Skills, Testin...|\n",
      "|Cognitive/AI Seni...|    IBM|Bangalore/Bengaluru|        04-Aug|Automation, Consu...|\n",
      "+--------------------+-------+-------------------+--------------+--------------------+"
     ]
    }
   ],
   "source": [
    "# SELECT DATA from the naukri_ds_jobs.\n",
    "all_results = spark.sql(\"SELECT * from upgrad.naukri_ds_jobs limit 5\")\n",
    "all_results.show()"
   ]
  },
  {
   "cell_type": "code",
   "execution_count": 19,
   "id": "301fe607-f2e4-4d2b-b84a-67738e97c49e",
   "metadata": {
    "execution": {
     "iopub.execute_input": "2022-05-19T16:21:49.488757Z",
     "iopub.status.busy": "2022-05-19T16:21:49.488530Z",
     "iopub.status.idle": "2022-05-19T16:21:58.847806Z",
     "shell.execute_reply": "2022-05-19T16:21:58.846860Z",
     "shell.execute_reply.started": "2022-05-19T16:21:49.488732Z"
    }
   },
   "outputs": [
    {
     "data": {
      "application/vnd.jupyter.widget-view+json": {
       "model_id": "ac7bcdc19cb347fdadc7ae75dbd0cb23",
       "version_major": 2,
       "version_minor": 0
      },
      "text/plain": [
       "VBox()"
      ]
     },
     "metadata": {},
     "output_type": "display_data"
    },
    {
     "data": {
      "application/vnd.jupyter.widget-view+json": {
       "model_id": "",
       "version_major": 2,
       "version_minor": 0
      },
      "text/plain": [
       "FloatProgress(value=0.0, bar_style='info', description='Progress:', layout=Layout(height='25px', width='50%'),…"
      ]
     },
     "metadata": {},
     "output_type": "display_data"
    },
    {
     "name": "stdout",
     "output_type": "stream",
     "text": [
      "+--------------------+-------+-------------------+--------------+--------------------+\n",
      "|            Job_Role|Company|           Location|Job_Experience|Skills_&_Description|\n",
      "+--------------------+-------+-------------------+--------------+--------------------+\n",
      "|Data Scientist: A...|    IBM|Bangalore/Bengaluru|        06-Nov|Scheduling, big d...|\n",
      "|Data Scientist-Cl...|    IBM|             Mumbai|        05-Oct|Consulting, Machi...|\n",
      "|Cognitive/AI Seni...|    IBM|Bangalore/Bengaluru|        04-Aug|Automation, Consu...|\n",
      "|Mid Level Data Sc...|    IBM|          Ahmedabad|        05-Aug|data science, Mac...|\n",
      "|      Data Scientist|    IBM|       Kochi/Cochin|        04-Aug|Software design, ...|\n",
      "|Data Scientist: A...|    IBM|Bangalore/Bengaluru|        02-May|Interpersonal ski...|\n",
      "|Data Scientist: A...|    IBM|Bangalore/Bengaluru|        03-Jul|Data migration, M...|\n",
      "|Data Scientist: A...|    IBM|Bangalore/Bengaluru|        03-Jul|Data migration, M...|\n",
      "|      Data Scientist|    IBM|Bangalore/Bengaluru|        08-Dec|Unix, VMware, Net...|\n",
      "|      Data Scientist|    IBM|       Kochi/Cochin|        08-Dec|Computer science,...|\n",
      "|      Data Scientist|    IBM|Bangalore/Bengaluru|        08-Dec|Consulting, Predi...|\n",
      "|Data Scientist: A...|    IBM|Bangalore/Bengaluru|        04-Aug|IVR, Telecommunic...|\n",
      "|Data Scientist: A...|    IBM|Bangalore/Bengaluru|        03-Jul|Enterprise applic...|\n",
      "|Data Scientist: A...|    IBM|Bangalore/Bengaluru|        04-Aug|IVR, Telecommunic...|\n",
      "|Data Scientist: A...|    IBM|Bangalore/Bengaluru|        03-Jul|Enterprise applic...|\n",
      "|Data Scientist: A...|    IBM|Bangalore/Bengaluru|        03-Jul|Enterprise applic...|\n",
      "|Data Scientist: A...|    IBM|Bangalore/Bengaluru|        03-Jul|Enterprise applic...|\n",
      "|      Data Scientist|    IBM|Bangalore/Bengaluru|        03-Jun|Coding, Debugging...|\n",
      "|      Data Scientist|    IBM|Bangalore/Bengaluru|        03-Jun|Coding, Debugging...|\n",
      "|Data Scientist: A...|    IBM|Bangalore/Bengaluru|        05-Oct|Training, advance...|\n",
      "+--------------------+-------+-------------------+--------------+--------------------+\n",
      "only showing top 20 rows\n",
      "\n",
      "IBM count is: 273"
     ]
    }
   ],
   "source": [
    "# SELECT DATA from the naukri_ds_jobs where company name = \"IBM\"\n",
    "ibm_company_results = spark.sql(\"SELECT * from upgrad.naukri_ds_jobs where company = 'IBM'\")\n",
    "ibm_company_results.show()\n",
    "print(\"IBM count is: {}\".format(ibm_company_results.count()))"
   ]
  },
  {
   "cell_type": "code",
   "execution_count": 20,
   "id": "c33a37a7-4c69-40b6-93b3-8f53b71c95e8",
   "metadata": {
    "execution": {
     "iopub.execute_input": "2022-05-19T16:31:16.882455Z",
     "iopub.status.busy": "2022-05-19T16:31:16.882101Z",
     "iopub.status.idle": "2022-05-19T16:31:28.279764Z",
     "shell.execute_reply": "2022-05-19T16:31:28.279040Z",
     "shell.execute_reply.started": "2022-05-19T16:31:16.882413Z"
    },
    "tags": []
   },
   "outputs": [
    {
     "data": {
      "application/vnd.jupyter.widget-view+json": {
       "model_id": "0beab9c244744e61bd291b07fc0b360d",
       "version_major": 2,
       "version_minor": 0
      },
      "text/plain": [
       "VBox()"
      ]
     },
     "metadata": {},
     "output_type": "display_data"
    },
    {
     "data": {
      "application/vnd.jupyter.widget-view+json": {
       "model_id": "",
       "version_major": 2,
       "version_minor": 0
      },
      "text/plain": [
       "FloatProgress(value=0.0, bar_style='info', description='Progress:', layout=Layout(height='25px', width='50%'),…"
      ]
     },
     "metadata": {},
     "output_type": "display_data"
    },
    {
     "name": "stdout",
     "output_type": "stream",
     "text": [
      "Total number of companies having presence in Bangalore is: 4687\n",
      "+--------------------+-------+-------------------+--------------+--------------------+\n",
      "|            Job_Role|Company|           Location|Job_Experience|Skills_&_Description|\n",
      "+--------------------+-------+-------------------+--------------+--------------------+\n",
      "|Data Scientist: A...|    IBM|Bangalore/Bengaluru|        06-Nov|Scheduling, big d...|\n",
      "|Data Scientist-Cl...|    IBM|             Mumbai|        05-Oct|Consulting, Machi...|\n",
      "|Cognitive/AI Seni...|    IBM|Bangalore/Bengaluru|        04-Aug|Automation, Consu...|\n",
      "|Mid Level Data Sc...|    IBM|          Ahmedabad|        05-Aug|data science, Mac...|\n",
      "|      Data Scientist|    IBM|       Kochi/Cochin|        04-Aug|Software design, ...|\n",
      "|Data Scientist: A...|    IBM|Bangalore/Bengaluru|        02-May|Interpersonal ski...|\n",
      "|Data Scientist: A...|    IBM|Bangalore/Bengaluru|        03-Jul|Data migration, M...|\n",
      "|Data Scientist: A...|    IBM|Bangalore/Bengaluru|        03-Jul|Data migration, M...|\n",
      "|      Data Scientist|    IBM|Bangalore/Bengaluru|        08-Dec|Unix, VMware, Net...|\n",
      "|      Data Scientist|    IBM|       Kochi/Cochin|        08-Dec|Computer science,...|\n",
      "|      Data Scientist|    IBM|Bangalore/Bengaluru|        08-Dec|Consulting, Predi...|\n",
      "|Data Scientist: A...|    IBM|Bangalore/Bengaluru|        04-Aug|IVR, Telecommunic...|\n",
      "|Data Scientist: A...|    IBM|Bangalore/Bengaluru|        03-Jul|Enterprise applic...|\n",
      "|Data Scientist: A...|    IBM|Bangalore/Bengaluru|        04-Aug|IVR, Telecommunic...|\n",
      "|Data Scientist: A...|    IBM|Bangalore/Bengaluru|        03-Jul|Enterprise applic...|\n",
      "|Data Scientist: A...|    IBM|Bangalore/Bengaluru|        03-Jul|Enterprise applic...|\n",
      "|Data Scientist: A...|    IBM|Bangalore/Bengaluru|        03-Jul|Enterprise applic...|\n",
      "|      Data Scientist|    IBM|Bangalore/Bengaluru|        03-Jun|Coding, Debugging...|\n",
      "|      Data Scientist|    IBM|Bangalore/Bengaluru|        03-Jun|Coding, Debugging...|\n",
      "|Data Scientist: A...|    IBM|Bangalore/Bengaluru|        05-Oct|Training, advance...|\n",
      "+--------------------+-------+-------------------+--------------+--------------------+\n",
      "only showing top 20 rows"
     ]
    }
   ],
   "source": [
    "# SELECT DATA from the naukri_ds_jobs where company place = \"Bangalore\"\n",
    "loc_bang_results = spark.sql(\"SELECT * from upgrad.naukri_ds_jobs where location like '%Bangalore%'\")\n",
    "print(\"Total number of companies having presence in Bangalore is: {}\".format(loc_bang_results.count()))\n",
    "ibm_company_results.show()"
   ]
  },
  {
   "cell_type": "code",
   "execution_count": 28,
   "id": "52d37c4d-80ea-4fe9-83ed-a974842baedb",
   "metadata": {},
   "outputs": [
    {
     "data": {
      "application/vnd.jupyter.widget-view+json": {
       "model_id": "f2daa4fe43d345b4b601fc44f6cf067a",
       "version_major": 2,
       "version_minor": 0
      },
      "text/plain": [
       "VBox()"
      ]
     },
     "metadata": {},
     "output_type": "display_data"
    },
    {
     "data": {
      "application/vnd.jupyter.widget-view+json": {
       "model_id": "",
       "version_major": 2,
       "version_minor": 0
      },
      "text/plain": [
       "FloatProgress(value=0.0, bar_style='info', description='Progress:', layout=Layout(height='25px', width='50%'),…"
      ]
     },
     "metadata": {},
     "output_type": "display_data"
    },
    {
     "name": "stdout",
     "output_type": "stream",
     "text": [
      "+--------------------+--------------------+------------+-----+\n",
      "|            Job_Role|            Job_Role|Day of Month|Month|\n",
      "+--------------------+--------------------+------------+-----+\n",
      "|Data Scientist: A...|Data Scientist: A...|          06|  Nov|\n",
      "|Staff Data Scientist|Staff Data Scientist|          04|  Aug|\n",
      "|Data Scientist-Cl...|Data Scientist-Cl...|          05|  Oct|\n",
      "|Senior Data Scien...|Senior Data Scien...|          05|  Oct|\n",
      "|Cognitive/AI Seni...|Cognitive/AI Seni...|          04|  Aug|\n",
      "|Lead - Data Scien...|Lead - Data Scien...|         Oct|   15|\n",
      "|Sr NLP & Text Min...|Sr NLP & Text Min...|          02|  Jun|\n",
      "|  Sr. Data Scientist|  Sr. Data Scientist|          05|  Oct|\n",
      "|Digital-Senior Pr...|Digital-Senior Pr...|         Aug|   13|\n",
      "|Senior Data Scien...|Senior Data Scien...|          10|  Dec|\n",
      "|      Data Scientist|      Data Scientist|           0|    3|\n",
      "|Senior Associate ...|Senior Associate ...|          02|  Apr|\n",
      "|Data Analyst / Da...|Data Analyst / Da...|          01|  Jun|\n",
      "|Rolls-Royce Data ...|Rolls-Royce Data ...|          03|  May|\n",
      "|      Data Scientist|      Data Scientist|          07|  Oct|\n",
      "|Staff Data Scientist|Staff Data Scientist|          04|  Aug|\n",
      "|      Data Scientist|      Data Scientist|          01|  May|\n",
      "|Senior Data Scien...|Senior Data Scien...|          05| Sept|\n",
      "|Senior Data Scien...|Senior Data Scien...|          05| Sept|\n",
      "|   Sr Data Scientist|   Sr Data Scientist|          04| Sept|\n",
      "+--------------------+--------------------+------------+-----+"
     ]
    }
   ],
   "source": [
    "# Split Job_Experience based on delimitter '-'\n",
    "naukri_df_20 = spark.sql(\"SELECT * from upgrad.naukri_ds_jobs limit 20\")\n",
    "from pyspark.sql.functions import split \n",
    "split_exp_col = split(naukri_df_20['Job_Experience'], '-')\n",
    "splitted_col_df = naukri_df_20.select(\"Job_Role\", \"Job_Role\", split_exp_col.getItem(0).alias('Day of Month'), split_exp_col.getItem(1).alias('Month')).show()\n"
   ]
  },
  {
   "cell_type": "code",
   "execution_count": 30,
   "id": "03eb8518",
   "metadata": {},
   "outputs": [
    {
     "data": {
      "application/vnd.jupyter.widget-view+json": {
       "model_id": "ae1b8a50d8b24eccb86581a69f0dfe5c",
       "version_major": 2,
       "version_minor": 0
      },
      "text/plain": [
       "VBox()"
      ]
     },
     "metadata": {},
     "output_type": "display_data"
    },
    {
     "data": {
      "application/vnd.jupyter.widget-view+json": {
       "model_id": "",
       "version_major": 2,
       "version_minor": 0
      },
      "text/plain": [
       "FloatProgress(value=0.0, bar_style='info', description='Progress:', layout=Layout(height='25px', width='50%'),…"
      ]
     },
     "metadata": {},
     "output_type": "display_data"
    },
    {
     "name": "stdout",
     "output_type": "stream",
     "text": [
      "+-----------+\n",
      "|Job_Exp_Arr|\n",
      "+-----------+\n",
      "|  [06, Nov]|\n",
      "|  [04, Aug]|\n",
      "|  [05, Oct]|\n",
      "|  [05, Oct]|\n",
      "|  [04, Aug]|\n",
      "|  [Oct, 15]|\n",
      "|  [02, Jun]|\n",
      "|  [05, Oct]|\n",
      "|  [Aug, 13]|\n",
      "|  [10, Dec]|\n",
      "|     [0, 3]|\n",
      "|  [02, Apr]|\n",
      "|  [01, Jun]|\n",
      "|  [03, May]|\n",
      "|  [07, Oct]|\n",
      "|  [04, Aug]|\n",
      "|  [01, May]|\n",
      "| [05, Sept]|\n",
      "| [05, Sept]|\n",
      "| [04, Sept]|\n",
      "+-----------+"
     ]
    }
   ],
   "source": [
    "splitted_array_df = spark.sql(\"SELECT split(Job_Experience, '-') as Job_Exp_Arr from upgrad.naukri_ds_jobs limit 20\").show()"
   ]
  },
  {
   "cell_type": "code",
   "execution_count": 32,
   "id": "478a59a0",
   "metadata": {},
   "outputs": [
    {
     "data": {
      "application/vnd.jupyter.widget-view+json": {
       "model_id": "fe7d2ff70bb94b43a0b451d45e325827",
       "version_major": 2,
       "version_minor": 0
      },
      "text/plain": [
       "VBox()"
      ]
     },
     "metadata": {},
     "output_type": "display_data"
    },
    {
     "data": {
      "application/vnd.jupyter.widget-view+json": {
       "model_id": "",
       "version_major": 2,
       "version_minor": 0
      },
      "text/plain": [
       "FloatProgress(value=0.0, bar_style='info', description='Progress:', layout=Layout(height='25px', width='50%'),…"
      ]
     },
     "metadata": {},
     "output_type": "display_data"
    },
    {
     "name": "stdout",
     "output_type": "stream",
     "text": [
      "+--------------------+--------------------+--------------------+--------------+--------------------+\n",
      "|            Job_Role|             Company|            Location|Job_Experience|Skills_&_Description|\n",
      "+--------------------+--------------------+--------------------+--------------+--------------------+\n",
      "|Software Engineer...|              zeotap| Bangalore/Bengaluru|        02-May|Computer science,...|\n",
      "|Data Scientist In...|zMed Healthcare T...|  Chennai, Bengaluru|           0-2|Data analysis, Da...|\n",
      "|      Data Scientist|zCodelabs Softwar...|              Remote|        04-Jul|Artificial Intell...|\n",
      "|Data Scientist In...| zBliss Technologies|  Chennai, Bengaluru|           0-2|Data analysis, Da...|\n",
      "|Data Scientist In...| zBliss Technologies|  Chennai, Bengaluru|           0-1|IT Skills, Python...|\n",
      "|       Data Engineer|xFusion Technologies|             Kolkata|        05-Oct|Java, Data Pipeli...|\n",
      "|  Lead Data Engineer|             whiz.ai|                Pune|        03-Aug|Nosql, Shell Scri...|\n",
      "|    Python Developer|             whiz.ai|                Pune|        02-Jun|Java, Software De...|\n",
      "|Senior Data Engineer|             whiz.ai|                Pune|        06-Oct|Shell Scripting, ...|\n",
      "|Lead Machine Lear...|             whiz.ai|                Pune|       05-Sept|Data Science, Nlp...|\n",
      "|   Python Developers|webtrace software...|           Bengaluru|        02-May|security complian...|\n",
      "|Lead Full Stack D...|             vroutes|Hyderabad/Secunde...|        05-Oct|Css, Full Stack D...|\n",
      "|Product Owner - A...|            vEnrichU|Hyderabad/Secunde...|         15-20|Data42 Platforms,...|\n",
      "|      Data Scientist|vDoIT Technologie...|    Gurgaon/Gurugram|        05-Jul|Computer science,...|\n",
      "|      Senior Analyst|              upGrad|   Mumbai, Bengaluru|        03-Jun|Analytical skills...|\n",
      "|Immediate Hiring ...|              upGrad| Bangalore/Bengaluru|       04-Sept|SQL Queries, Tabl...|\n",
      "|       Data Engineer|              upGrad|           Bengaluru|       04-Sept|Computer science,...|\n",
      "|Urgent Hiring For...|              upGrad|              Mumbai|       04-Sept|Business Intellig...|\n",
      "|      Data Scientist|torcai digital media|                Pune|        03-Jun|Data analysis, da...|\n",
      "|Data Science Engi...|thinkbridge Softw...|              Remote|        01-Apr|Natural Language ...|\n",
      "+--------------------+--------------------+--------------------+--------------+--------------------+\n",
      "only showing top 20 rows"
     ]
    }
   ],
   "source": [
    "sorted_company_df = spark.sql(\"SELECT * from upgrad.naukri_ds_jobs order by company desc\").show()"
   ]
  },
  {
   "cell_type": "code",
   "execution_count": 63,
   "id": "c9ce2a2d",
   "metadata": {},
   "outputs": [
    {
     "data": {
      "application/vnd.jupyter.widget-view+json": {
       "model_id": "6ce0358a96fb40a3aee0bd450902ea77",
       "version_major": 2,
       "version_minor": 0
      },
      "text/plain": [
       "VBox()"
      ]
     },
     "metadata": {},
     "output_type": "display_data"
    },
    {
     "data": {
      "application/vnd.jupyter.widget-view+json": {
       "model_id": "",
       "version_major": 2,
       "version_minor": 0
      },
      "text/plain": [
       "FloatProgress(value=0.0, bar_style='info', description='Progress:', layout=Layout(height='25px', width='50%'),…"
      ]
     },
     "metadata": {},
     "output_type": "display_data"
    }
   ],
   "source": [
    "# list  of employee data\n",
    "employeeData = [[1, \"susmit\", \"oracle\", 60000],\n",
    "        [2, \"Rahul\", \"microsoft\", 60000], \n",
    "        [3, \"rohith\", \"Meta\", 90000],\n",
    "        [4, \"Aman\", \"amazon\", 80000], \n",
    "        [5, \"bobby\", \"Walmart\", 40000],\n",
    "        [6, \"Sandeep\", \"Walmart\", 50000],\n",
    "        [7, \"Raju\", \"oracle\", 40000]]\n",
    "\n",
    "# Create a schema.\n",
    "employeeSchema = StructType([\n",
    "    StructField(\"emp_id\", IntegerType()),\n",
    "    StructField(\"name\", StringType()),\n",
    "    StructField(\"company\", StringType()),\n",
    "    StructField(\"salary\", IntegerType()),\n",
    "])\n",
    "\n",
    "employeeDF = spark.createDataFrame(employeeData, employeeSchema)\n",
    "employeeDF.write.mode(\"overwrite\").saveAsTable(\"employees\")"
   ]
  },
  {
   "cell_type": "code",
   "execution_count": 64,
   "id": "b89b37fe",
   "metadata": {},
   "outputs": [
    {
     "data": {
      "application/vnd.jupyter.widget-view+json": {
       "model_id": "f2bf137dd57a4a66aa4a446644c1d784",
       "version_major": 2,
       "version_minor": 0
      },
      "text/plain": [
       "VBox()"
      ]
     },
     "metadata": {},
     "output_type": "display_data"
    },
    {
     "data": {
      "application/vnd.jupyter.widget-view+json": {
       "model_id": "",
       "version_major": 2,
       "version_minor": 0
      },
      "text/plain": [
       "FloatProgress(value=0.0, bar_style='info', description='Progress:', layout=Layout(height='25px', width='50%'),…"
      ]
     },
     "metadata": {},
     "output_type": "display_data"
    },
    {
     "name": "stdout",
     "output_type": "stream",
     "text": [
      "+------+-------+---------+------+\n",
      "|emp_id|   name|  company|salary|\n",
      "+------+-------+---------+------+\n",
      "|     4|   Aman|   amazon| 80000|\n",
      "|     5|  bobby|  Walmart| 40000|\n",
      "|     6|Sandeep|  Walmart| 50000|\n",
      "|     7|   Raju|   oracle| 40000|\n",
      "|     1| susmit|   oracle| 60000|\n",
      "|     2|  Rahul|microsoft| 60000|\n",
      "|     3| rohith|     Meta| 90000|\n",
      "+------+-------+---------+------+"
     ]
    }
   ],
   "source": [
    "employeeResults = spark.sql(\"select * from employees\").show()"
   ]
  },
  {
   "cell_type": "code",
   "execution_count": 70,
   "id": "babd9b66",
   "metadata": {},
   "outputs": [
    {
     "data": {
      "application/vnd.jupyter.widget-view+json": {
       "model_id": "f6ec50de788940a8be0b91e861327c15",
       "version_major": 2,
       "version_minor": 0
      },
      "text/plain": [
       "VBox()"
      ]
     },
     "metadata": {},
     "output_type": "display_data"
    },
    {
     "data": {
      "application/vnd.jupyter.widget-view+json": {
       "model_id": "",
       "version_major": 2,
       "version_minor": 0
      },
      "text/plain": [
       "FloatProgress(value=0.0, bar_style='info', description='Progress:', layout=Layout(height='25px', width='50%'),…"
      ]
     },
     "metadata": {},
     "output_type": "display_data"
    }
   ],
   "source": [
    "# Write to s3 bucket with partition by company name\n",
    "employeeMaxSalaryByCompanyDf = spark.sql(\"select emp.*, max(salary) over (partition by company) as max_salary from employees emp\")\n",
    "employeeMaxSalaryByCompanyDfWriter = DataFrameWriter(employeeMaxSalaryByCompanyDf)\n",
    "employeeMaxSalaryByCompanyDfWriter.partitionBy('company').saveAsTable('test_table', format='parquet', mode='overwrite', path='s3://kaggle-dataset-pyspark/output_dir/')"
   ]
  },
  {
   "cell_type": "code",
   "execution_count": 76,
   "id": "58830787",
   "metadata": {},
   "outputs": [
    {
     "data": {
      "application/vnd.jupyter.widget-view+json": {
       "model_id": "867771e3360749bdb5e5dd81e42a75ab",
       "version_major": 2,
       "version_minor": 0
      },
      "text/plain": [
       "VBox()"
      ]
     },
     "metadata": {},
     "output_type": "display_data"
    },
    {
     "data": {
      "application/vnd.jupyter.widget-view+json": {
       "model_id": "",
       "version_major": 2,
       "version_minor": 0
      },
      "text/plain": [
       "FloatProgress(value=0.0, bar_style='info', description='Progress:', layout=Layout(height='25px', width='50%'),…"
      ]
     },
     "metadata": {},
     "output_type": "display_data"
    },
    {
     "name": "stdout",
     "output_type": "stream",
     "text": [
      "+------+-------+------+----------+---------+\n",
      "|emp_id|   name|salary|max_salary|  company|\n",
      "+------+-------+------+----------+---------+\n",
      "|     1| susmit| 60000|     60000|   oracle|\n",
      "|     7|   Raju| 40000|     60000|   oracle|\n",
      "|     5|  bobby| 40000|     50000|  Walmart|\n",
      "|     6|Sandeep| 50000|     50000|  Walmart|\n",
      "|     2|  Rahul| 60000|     60000|microsoft|\n",
      "|     3| rohith| 90000|     90000|     Meta|\n",
      "|     4|   Aman| 80000|     80000|   amazon|\n",
      "+------+-------+------+----------+---------+"
     ]
    }
   ],
   "source": [
    "# Read data back from s3\n",
    "employeesDFFromS3 = spark.read.parquet(\"s3://kaggle-dataset-pyspark/output_dir/\")\n",
    "employeesDFFromS3.createOrReplaceTempView(\"employeesDFFromS3\")\n",
    "employees = spark.sql(\"select * from employeesDFFromS3\").show()"
   ]
  },
  {
   "cell_type": "code",
   "execution_count": 48,
   "id": "15c7f9c0",
   "metadata": {},
   "outputs": [
    {
     "data": {
      "application/vnd.jupyter.widget-view+json": {
       "model_id": "3b5c2a058d3545c494ac5986cf44a36d",
       "version_major": 2,
       "version_minor": 0
      },
      "text/plain": [
       "VBox()"
      ]
     },
     "metadata": {},
     "output_type": "display_data"
    },
    {
     "data": {
      "application/vnd.jupyter.widget-view+json": {
       "model_id": "",
       "version_major": 2,
       "version_minor": 0
      },
      "text/plain": [
       "FloatProgress(value=0.0, bar_style='info', description='Progress:', layout=Layout(height='25px', width='50%'),…"
      ]
     },
     "metadata": {},
     "output_type": "display_data"
    },
    {
     "name": "stdout",
     "output_type": "stream",
     "text": [
      "+------+-------+---------+------+\n",
      "|emp_id|   name|  company|salary|\n",
      "+------+-------+---------+------+\n",
      "|     1| susmit|   oracle| 60000|\n",
      "|     2|  Rahul|microsoft| 60000|\n",
      "|     3| rohith|     Meta| 90000|\n",
      "|     4|   Aman|   amazon| 80000|\n",
      "|     5|  bobby|  Walmart| 40000|\n",
      "|     6|Sandeep|  Walmart| 50000|\n",
      "|     7|   Raju|   oracle| 40000|\n",
      "+------+-------+---------+------+"
     ]
    }
   ],
   "source": [
    "# Sort by emp_id asc\n",
    "employeesortById = spark.sql(\"select * from employees order by emp_id asc\").show()"
   ]
  },
  {
   "cell_type": "code",
   "execution_count": 51,
   "id": "e46f0ebe",
   "metadata": {},
   "outputs": [
    {
     "data": {
      "application/vnd.jupyter.widget-view+json": {
       "model_id": "45883d5a883540759dcd5f8b52f87457",
       "version_major": 2,
       "version_minor": 0
      },
      "text/plain": [
       "VBox()"
      ]
     },
     "metadata": {},
     "output_type": "display_data"
    },
    {
     "data": {
      "application/vnd.jupyter.widget-view+json": {
       "model_id": "",
       "version_major": 2,
       "version_minor": 0
      },
      "text/plain": [
       "FloatProgress(value=0.0, bar_style='info', description='Progress:', layout=Layout(height='25px', width='50%'),…"
      ]
     },
     "metadata": {},
     "output_type": "display_data"
    },
    {
     "name": "stdout",
     "output_type": "stream",
     "text": [
      "DataFrame[]"
     ]
    }
   ],
   "source": [
    "# Clean up tasks\n",
    "spark.sql(\"drop table if EXISTS upgrad.employees\")\n",
    "spark.sql(\"drop table if EXISTS upgrad.naukri_ds_jobs\")\n",
    "spark.sql(\"drop database if EXISTS upgrad\")"
   ]
  },
  {
   "cell_type": "code",
   "execution_count": null,
   "id": "7a6dc3fb",
   "metadata": {},
   "outputs": [],
   "source": []
  }
 ],
 "metadata": {
  "kernelspec": {
   "display_name": "PySpark",
   "language": "python",
   "name": "pysparkkernel"
  },
  "language_info": {
   "codemirror_mode": {
    "name": "python",
    "version": 3
   },
   "file_extension": ".py",
   "mimetype": "text/x-python",
   "name": "pyspark",
   "pygments_lexer": "python3"
  }
 },
 "nbformat": 4,
 "nbformat_minor": 5
}

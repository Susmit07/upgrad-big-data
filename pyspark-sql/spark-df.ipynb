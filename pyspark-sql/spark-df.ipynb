{
 "cells": [
  {
   "cell_type": "code",
   "execution_count": 11,
   "id": "6e44f7e5-c1a9-4200-87e3-f209b96ca66f",
   "metadata": {
    "execution": {
     "iopub.execute_input": "2022-08-27T06:38:34.471784Z",
     "iopub.status.busy": "2022-08-27T06:38:34.471557Z",
     "iopub.status.idle": "2022-08-27T06:38:34.757705Z",
     "shell.execute_reply": "2022-08-27T06:38:34.757123Z",
     "shell.execute_reply.started": "2022-08-27T06:38:34.471761Z"
    },
    "tags": []
   },
   "outputs": [
    {
     "data": {
      "application/vnd.jupyter.widget-view+json": {
       "model_id": "3780d1ad99db4a158747e06cece48125",
       "version_major": 2,
       "version_minor": 0
      },
      "text/plain": [
       "VBox()"
      ]
     },
     "metadata": {},
     "output_type": "display_data"
    },
    {
     "data": {
      "application/vnd.jupyter.widget-view+json": {
       "model_id": "",
       "version_major": 2,
       "version_minor": 0
      },
      "text/plain": [
       "FloatProgress(value=0.0, bar_style='info', description='Progress:', layout=Layout(height='25px', width='50%'),…"
      ]
     },
     "metadata": {},
     "output_type": "display_data"
    }
   ],
   "source": [
    "from pyspark.sql import *\n",
    "from pyspark.sql.types import *\n",
    "from pyspark.sql.functions import *"
   ]
  },
  {
   "cell_type": "code",
   "execution_count": 12,
   "id": "3feccffc-e74c-4709-9804-57a833eda5e9",
   "metadata": {
    "execution": {
     "iopub.execute_input": "2022-08-27T06:38:36.187381Z",
     "iopub.status.busy": "2022-08-27T06:38:36.187156Z",
     "iopub.status.idle": "2022-08-27T06:38:36.251914Z",
     "shell.execute_reply": "2022-08-27T06:38:36.251328Z",
     "shell.execute_reply.started": "2022-08-27T06:38:36.187359Z"
    },
    "tags": []
   },
   "outputs": [
    {
     "data": {
      "application/vnd.jupyter.widget-view+json": {
       "model_id": "caebbd109b15481d8987825b1d696f88",
       "version_major": 2,
       "version_minor": 0
      },
      "text/plain": [
       "VBox()"
      ]
     },
     "metadata": {},
     "output_type": "display_data"
    },
    {
     "data": {
      "application/vnd.jupyter.widget-view+json": {
       "model_id": "",
       "version_major": 2,
       "version_minor": 0
      },
      "text/plain": [
       "FloatProgress(value=0.0, bar_style='info', description='Progress:', layout=Layout(height='25px', width='50%'),…"
      ]
     },
     "metadata": {},
     "output_type": "display_data"
    }
   ],
   "source": [
    "jobsSchema = StructType([\n",
    "    StructField(\"Job_Role\", StringType()),\n",
    "    StructField(\"Company\", StringType()),\n",
    "    StructField(\"Location\", StringType()),\n",
    "    StructField(\"Job_Experience\", StringType()),\n",
    "    StructField(\"Skills_&_Description\", StringType())\n",
    "])"
   ]
  },
  {
   "cell_type": "code",
   "execution_count": 13,
   "id": "5732886e-1def-46f5-8ad8-87ece8e9a7e1",
   "metadata": {
    "execution": {
     "iopub.execute_input": "2022-08-27T06:38:38.159382Z",
     "iopub.status.busy": "2022-08-27T06:38:38.159115Z",
     "iopub.status.idle": "2022-08-27T06:38:38.440812Z",
     "shell.execute_reply": "2022-08-27T06:38:38.440273Z",
     "shell.execute_reply.started": "2022-08-27T06:38:38.159344Z"
    },
    "tags": []
   },
   "outputs": [
    {
     "data": {
      "application/vnd.jupyter.widget-view+json": {
       "model_id": "d2933c4b2f244077bae5b339af82a746",
       "version_major": 2,
       "version_minor": 0
      },
      "text/plain": [
       "VBox()"
      ]
     },
     "metadata": {},
     "output_type": "display_data"
    },
    {
     "data": {
      "application/vnd.jupyter.widget-view+json": {
       "model_id": "",
       "version_major": 2,
       "version_minor": 0
      },
      "text/plain": [
       "FloatProgress(value=0.0, bar_style='info', description='Progress:', layout=Layout(height='25px', width='50%'),…"
      ]
     },
     "metadata": {},
     "output_type": "display_data"
    },
    {
     "name": "stdout",
     "output_type": "stream",
     "text": [
      "root\n",
      " |-- Job_Role: string (nullable = true)\n",
      " |-- Company: string (nullable = true)\n",
      " |-- Location: string (nullable = true)\n",
      " |-- Job_Experience: string (nullable = true)\n",
      " |-- Skills_&_Description: string (nullable = true)"
     ]
    }
   ],
   "source": [
    "jobsDf = spark.read.csv(\"s3://kaggle-dataset-pyspark/naukri_data_science_jobs_india.csv\", jobsSchema)\n",
    "jobsDf.printSchema()"
   ]
  },
  {
   "cell_type": "code",
   "execution_count": 14,
   "id": "46d66e40-0e7c-4842-897c-ec8183cb132c",
   "metadata": {
    "execution": {
     "iopub.execute_input": "2022-08-27T06:38:40.913712Z",
     "iopub.status.busy": "2022-08-27T06:38:40.913478Z",
     "iopub.status.idle": "2022-08-27T06:38:48.250796Z",
     "shell.execute_reply": "2022-08-27T06:38:48.250218Z",
     "shell.execute_reply.started": "2022-08-27T06:38:40.913686Z"
    },
    "tags": []
   },
   "outputs": [
    {
     "data": {
      "application/vnd.jupyter.widget-view+json": {
       "model_id": "5b2e427d731446e6a79bfa957a4deb97",
       "version_major": 2,
       "version_minor": 0
      },
      "text/plain": [
       "VBox()"
      ]
     },
     "metadata": {},
     "output_type": "display_data"
    },
    {
     "data": {
      "application/vnd.jupyter.widget-view+json": {
       "model_id": "",
       "version_major": 2,
       "version_minor": 0
      },
      "text/plain": [
       "FloatProgress(value=0.0, bar_style='info', description='Progress:', layout=Layout(height='25px', width='50%'),…"
      ]
     },
     "metadata": {},
     "output_type": "display_data"
    },
    {
     "name": "stdout",
     "output_type": "stream",
     "text": [
      "+--------------------+-----------------+--------------------+--------------+--------------------+\n",
      "|            Job_Role|          Company|            Location|Job_Experience|Skills_&_Description|\n",
      "+--------------------+-----------------+--------------------+--------------+--------------------+\n",
      "|Data Scientist: A...|              IBM| Bangalore/Bengaluru|        06-Nov|Scheduling, big d...|\n",
      "|Staff Data Scientist|          Walmart| Bangalore/Bengaluru|        04-Aug|IT Skills, Data S...|\n",
      "|Data Scientist-Cl...|              IBM|              Mumbai|        05-Oct|Consulting, Machi...|\n",
      "|Senior Data Scien...|          Walmart| Bangalore/Bengaluru|        05-Oct|IT Skills, Testin...|\n",
      "|Cognitive/AI Seni...|              IBM| Bangalore/Bengaluru|        04-Aug|Automation, Consu...|\n",
      "|Lead - Data Scien...|Applied Materials| Bangalore/Bengaluru|        Oct-15|data science, Jav...|\n",
      "|Sr NLP & Text Min...|   Evolent Health|                Pune|        02-Jun|Business Intellig...|\n",
      "|  Sr. Data Scientist|          Invesco|Hyderabad/Secunde...|        05-Oct|analytical projec...|\n",
      "|Digital-Senior Pr...|           eClerx|                Pune|        Aug-13|data visualizatio...|\n",
      "|Senior Data Scien...|ICERTIS Solutions|                Pune|        10-Dec|IT Skills, Python...|\n",
      "+--------------------+-----------------+--------------------+--------------+--------------------+\n",
      "only showing top 10 rows"
     ]
    }
   ],
   "source": [
    "jobsDf.show(10)"
   ]
  },
  {
   "cell_type": "code",
   "execution_count": 15,
   "id": "7e33166d-cbb4-4589-8d5a-244c28e57486",
   "metadata": {
    "execution": {
     "iopub.execute_input": "2022-08-27T06:38:51.592521Z",
     "iopub.status.busy": "2022-08-27T06:38:51.592293Z",
     "iopub.status.idle": "2022-08-27T06:38:52.394120Z",
     "shell.execute_reply": "2022-08-27T06:38:52.393513Z",
     "shell.execute_reply.started": "2022-08-27T06:38:51.592497Z"
    },
    "tags": []
   },
   "outputs": [
    {
     "data": {
      "application/vnd.jupyter.widget-view+json": {
       "model_id": "cc0e4f5ae21d48089092ec897aa2462a",
       "version_major": 2,
       "version_minor": 0
      },
      "text/plain": [
       "VBox()"
      ]
     },
     "metadata": {},
     "output_type": "display_data"
    },
    {
     "data": {
      "application/vnd.jupyter.widget-view+json": {
       "model_id": "",
       "version_major": 2,
       "version_minor": 0
      },
      "text/plain": [
       "FloatProgress(value=0.0, bar_style='info', description='Progress:', layout=Layout(height='25px', width='50%'),…"
      ]
     },
     "metadata": {},
     "output_type": "display_data"
    },
    {
     "name": "stdout",
     "output_type": "stream",
     "text": [
      "+--------------------+--------------------+--------------------+--------------+--------------------+-------+\n",
      "|            Job_Role|             Company|            Location|Job_Experience|Skills_&_Description|Country|\n",
      "+--------------------+--------------------+--------------------+--------------+--------------------+-------+\n",
      "|Data Scientist: A...|                 IBM| Bangalore/Bengaluru|        06-Nov|Scheduling, big d...|  India|\n",
      "|Staff Data Scientist|             Walmart| Bangalore/Bengaluru|        04-Aug|IT Skills, Data S...|  India|\n",
      "|Data Scientist-Cl...|                 IBM|              Mumbai|        05-Oct|Consulting, Machi...|  India|\n",
      "|Senior Data Scien...|             Walmart| Bangalore/Bengaluru|        05-Oct|IT Skills, Testin...|  India|\n",
      "|Cognitive/AI Seni...|                 IBM| Bangalore/Bengaluru|        04-Aug|Automation, Consu...|  India|\n",
      "|Lead - Data Scien...|   Applied Materials| Bangalore/Bengaluru|        Oct-15|data science, Jav...|  India|\n",
      "|Sr NLP & Text Min...|      Evolent Health|                Pune|        02-Jun|Business Intellig...|  India|\n",
      "|  Sr. Data Scientist|             Invesco|Hyderabad/Secunde...|        05-Oct|analytical projec...|  India|\n",
      "|Digital-Senior Pr...|              eClerx|                Pune|        Aug-13|data visualizatio...|  India|\n",
      "|Senior Data Scien...|   ICERTIS Solutions|                Pune|        10-Dec|IT Skills, Python...|  India|\n",
      "|      Data Scientist|   Applied Materials| Bangalore/Bengaluru|           0-3|Unix, semiconduct...|  India|\n",
      "|Senior Associate ...|              Affine|              Remote|        02-Apr|Excel, Machine Le...|  India|\n",
      "|Data Analyst / Da...|GSOURCE TECHNOLOG...| Pune(Kalyani Nagar)|        01-Jun|excel, Data Analy...|  India|\n",
      "|Rolls-Royce Data ...|         Rolls Royce| Bangalore/Bengaluru|        03-May|Matplotlib, Azure...|  India|\n",
      "|      Data Scientist|   Applied Materials| Bangalore/Bengaluru|        07-Oct|data science, CNN...|  India|\n",
      "|Staff Data Scientist|             Walmart| Bangalore/Bengaluru|        04-Aug|Product managemen...|  India|\n",
      "|      Data Scientist|                CRED| Bangalore/Bengaluru|        01-May|Health insurance,...|  India|\n",
      "|Senior Data Scien...|             Walmart| Bangalore/Bengaluru|       05-Sept|IT Skills, Python...|  India|\n",
      "|Senior Data Scien...|             Walmart| Bangalore/Bengaluru|       05-Sept|IT Skills, Python...|  India|\n",
      "|   Sr Data Scientist|              Target| Bangalore/Bengaluru|       04-Sept|Supply chain, Com...|  India|\n",
      "+--------------------+--------------------+--------------------+--------------+--------------------+-------+\n",
      "only showing top 20 rows"
     ]
    }
   ],
   "source": [
    "jobsDf.withColumn(\"Country\", lit(\"India\")).show()"
   ]
  },
  {
   "cell_type": "code",
   "execution_count": 17,
   "id": "a3173233-605a-46b5-a42b-d43c953bae30",
   "metadata": {
    "execution": {
     "iopub.execute_input": "2022-08-27T06:40:21.785179Z",
     "iopub.status.busy": "2022-08-27T06:40:21.784958Z",
     "iopub.status.idle": "2022-08-27T06:40:22.565660Z",
     "shell.execute_reply": "2022-08-27T06:40:22.565040Z",
     "shell.execute_reply.started": "2022-08-27T06:40:21.785156Z"
    },
    "tags": []
   },
   "outputs": [
    {
     "data": {
      "application/vnd.jupyter.widget-view+json": {
       "model_id": "2607cb8dd73c4715a2d49da06fb8b64c",
       "version_major": 2,
       "version_minor": 0
      },
      "text/plain": [
       "VBox()"
      ]
     },
     "metadata": {},
     "output_type": "display_data"
    },
    {
     "data": {
      "application/vnd.jupyter.widget-view+json": {
       "model_id": "",
       "version_major": 2,
       "version_minor": 0
      },
      "text/plain": [
       "FloatProgress(value=0.0, bar_style='info', description='Progress:', layout=Layout(height='25px', width='50%'),…"
      ]
     },
     "metadata": {},
     "output_type": "display_data"
    },
    {
     "name": "stdout",
     "output_type": "stream",
     "text": [
      "+--------------------+-----------------+--------------------+--------------+--------------------+\n",
      "|            Job_Role|     Organisation|            Location|Job_Experience|Skills_&_Description|\n",
      "+--------------------+-----------------+--------------------+--------------+--------------------+\n",
      "|Data Scientist: A...|              IBM| Bangalore/Bengaluru|        06-Nov|Scheduling, big d...|\n",
      "|Staff Data Scientist|          Walmart| Bangalore/Bengaluru|        04-Aug|IT Skills, Data S...|\n",
      "|Data Scientist-Cl...|              IBM|              Mumbai|        05-Oct|Consulting, Machi...|\n",
      "|Senior Data Scien...|          Walmart| Bangalore/Bengaluru|        05-Oct|IT Skills, Testin...|\n",
      "|Cognitive/AI Seni...|              IBM| Bangalore/Bengaluru|        04-Aug|Automation, Consu...|\n",
      "|Lead - Data Scien...|Applied Materials| Bangalore/Bengaluru|        Oct-15|data science, Jav...|\n",
      "|Sr NLP & Text Min...|   Evolent Health|                Pune|        02-Jun|Business Intellig...|\n",
      "|  Sr. Data Scientist|          Invesco|Hyderabad/Secunde...|        05-Oct|analytical projec...|\n",
      "|Digital-Senior Pr...|           eClerx|                Pune|        Aug-13|data visualizatio...|\n",
      "|Senior Data Scien...|ICERTIS Solutions|                Pune|        10-Dec|IT Skills, Python...|\n",
      "+--------------------+-----------------+--------------------+--------------+--------------------+\n",
      "only showing top 10 rows"
     ]
    }
   ],
   "source": [
    "jobsDf.withColumnRenamed(\"Company\",\"Organisation\").show(10) "
   ]
  },
  {
   "cell_type": "code",
   "execution_count": 57,
   "id": "72be3263-b382-4ffe-bd6e-64f81306097b",
   "metadata": {
    "execution": {
     "iopub.execute_input": "2022-08-27T09:08:06.459769Z",
     "iopub.status.busy": "2022-08-27T09:08:06.459532Z",
     "iopub.status.idle": "2022-08-27T09:08:13.792104Z",
     "shell.execute_reply": "2022-08-27T09:08:13.791332Z",
     "shell.execute_reply.started": "2022-08-27T09:08:06.459746Z"
    },
    "tags": []
   },
   "outputs": [
    {
     "data": {
      "application/vnd.jupyter.widget-view+json": {
       "model_id": "01d5b654855f42bb9ac56ac8136bf502",
       "version_major": 2,
       "version_minor": 0
      },
      "text/plain": [
       "VBox()"
      ]
     },
     "metadata": {},
     "output_type": "display_data"
    },
    {
     "data": {
      "application/vnd.jupyter.widget-view+json": {
       "model_id": "",
       "version_major": 2,
       "version_minor": 0
      },
      "text/plain": [
       "FloatProgress(value=0.0, bar_style='info', description='Progress:', layout=Layout(height='25px', width='50%'),…"
      ]
     },
     "metadata": {},
     "output_type": "display_data"
    },
    {
     "name": "stdout",
     "output_type": "stream",
     "text": [
      "+--------------------+-------+-------------------+--------------+--------------------+\n",
      "|            Job_Role|Company|           Location|Job_Experience|Skills_&_Description|\n",
      "+--------------------+-------+-------------------+--------------+--------------------+\n",
      "|Data Scientist: A...|    IBM|Bangalore/Bengaluru|        06-Nov|Scheduling, big d...|\n",
      "|Data Scientist-Cl...|    IBM|             Mumbai|        05-Oct|Consulting, Machi...|\n",
      "|Cognitive/AI Seni...|    IBM|Bangalore/Bengaluru|        04-Aug|Automation, Consu...|\n",
      "|Mid Level Data Sc...|    IBM|          Ahmedabad|        05-Aug|data science, Mac...|\n",
      "|      Data Scientist|    IBM|       Kochi/Cochin|        04-Aug|Software design, ...|\n",
      "|Data Scientist: A...|    IBM|Bangalore/Bengaluru|        02-May|Interpersonal ski...|\n",
      "|Data Scientist: A...|    IBM|Bangalore/Bengaluru|        03-Jul|Data migration, M...|\n",
      "|Data Scientist: A...|    IBM|Bangalore/Bengaluru|        03-Jul|Data migration, M...|\n",
      "|      Data Scientist|    IBM|Bangalore/Bengaluru|        08-Dec|Unix, VMware, Net...|\n",
      "|      Data Scientist|    IBM|       Kochi/Cochin|        08-Dec|Computer science,...|\n",
      "+--------------------+-------+-------------------+--------------+--------------------+\n",
      "only showing top 10 rows"
     ]
    }
   ],
   "source": [
    "# filer with dataframe\n",
    "jobsDf.filter(jobsDf.Company == \"IBM\").show(10)"
   ]
  },
  {
   "cell_type": "code",
   "execution_count": 20,
   "id": "e60736ab-2728-43a8-98ea-1299c1be68a6",
   "metadata": {
    "execution": {
     "iopub.execute_input": "2022-08-27T07:23:20.319435Z",
     "iopub.status.busy": "2022-08-27T07:23:20.319208Z",
     "iopub.status.idle": "2022-08-27T07:23:21.130518Z",
     "shell.execute_reply": "2022-08-27T07:23:21.129870Z",
     "shell.execute_reply.started": "2022-08-27T07:23:20.319412Z"
    },
    "tags": []
   },
   "outputs": [
    {
     "data": {
      "application/vnd.jupyter.widget-view+json": {
       "model_id": "29e20c2fb7704f1bb9efb2ba1c9b5396",
       "version_major": 2,
       "version_minor": 0
      },
      "text/plain": [
       "VBox()"
      ]
     },
     "metadata": {},
     "output_type": "display_data"
    },
    {
     "data": {
      "application/vnd.jupyter.widget-view+json": {
       "model_id": "",
       "version_major": 2,
       "version_minor": 0
      },
      "text/plain": [
       "FloatProgress(value=0.0, bar_style='info', description='Progress:', layout=Layout(height='25px', width='50%'),…"
      ]
     },
     "metadata": {},
     "output_type": "display_data"
    },
    {
     "name": "stdout",
     "output_type": "stream",
     "text": [
      "+--------------------+-----------------+--------------------+--------------+--------------------+----+\n",
      "|            Job_Role|          Company|            Location|Job_Experience|Skills_&_Description|Date|\n",
      "+--------------------+-----------------+--------------------+--------------+--------------------+----+\n",
      "|Data Scientist: A...|              IBM| Bangalore/Bengaluru|        06-Nov|Scheduling, big d...|  06|\n",
      "|Staff Data Scientist|          Walmart| Bangalore/Bengaluru|        04-Aug|IT Skills, Data S...|  04|\n",
      "|Data Scientist-Cl...|              IBM|              Mumbai|        05-Oct|Consulting, Machi...|  05|\n",
      "|Senior Data Scien...|          Walmart| Bangalore/Bengaluru|        05-Oct|IT Skills, Testin...|  05|\n",
      "|Cognitive/AI Seni...|              IBM| Bangalore/Bengaluru|        04-Aug|Automation, Consu...|  04|\n",
      "|Lead - Data Scien...|Applied Materials| Bangalore/Bengaluru|        Oct-15|data science, Jav...| Oct|\n",
      "|Sr NLP & Text Min...|   Evolent Health|                Pune|        02-Jun|Business Intellig...|  02|\n",
      "|  Sr. Data Scientist|          Invesco|Hyderabad/Secunde...|        05-Oct|analytical projec...|  05|\n",
      "|Digital-Senior Pr...|           eClerx|                Pune|        Aug-13|data visualizatio...| Aug|\n",
      "|Senior Data Scien...|ICERTIS Solutions|                Pune|        10-Dec|IT Skills, Python...|  10|\n",
      "+--------------------+-----------------+--------------------+--------------+--------------------+----+\n",
      "only showing top 10 rows"
     ]
    }
   ],
   "source": [
    "# Use of withColumn\n",
    "jobsDf.withColumn('Date', split(jobsDf['Job_Experience'], '-').getItem(0)).show(10)"
   ]
  },
  {
   "cell_type": "code",
   "execution_count": 56,
   "id": "707ff798-b350-4f61-a67f-7b67e93caca1",
   "metadata": {
    "execution": {
     "iopub.execute_input": "2022-08-27T09:03:45.236772Z",
     "iopub.status.busy": "2022-08-27T09:03:45.236538Z",
     "iopub.status.idle": "2022-08-27T09:03:45.500278Z",
     "shell.execute_reply": "2022-08-27T09:03:45.499655Z",
     "shell.execute_reply.started": "2022-08-27T09:03:45.236748Z"
    }
   },
   "outputs": [
    {
     "data": {
      "application/vnd.jupyter.widget-view+json": {
       "model_id": "6ae0f3cd7dca4b78a96571e4db24d722",
       "version_major": 2,
       "version_minor": 0
      },
      "text/plain": [
       "VBox()"
      ]
     },
     "metadata": {},
     "output_type": "display_data"
    },
    {
     "data": {
      "application/vnd.jupyter.widget-view+json": {
       "model_id": "",
       "version_major": 2,
       "version_minor": 0
      },
      "text/plain": [
       "FloatProgress(value=0.0, bar_style='info', description='Progress:', layout=Layout(height='25px', width='50%'),…"
      ]
     },
     "metadata": {},
     "output_type": "display_data"
    },
    {
     "name": "stdout",
     "output_type": "stream",
     "text": [
      "+--------------------+-------+-------------------+--------------+--------------------+\n",
      "|            Job_Role|Company|           Location|Job_Experience|Skills_&_Description|\n",
      "+--------------------+-------+-------------------+--------------+--------------------+\n",
      "|Data Scientist: A...|    IBM|Bangalore/Bengaluru|        06-Nov|Scheduling, big d...|\n",
      "|Data Scientist-Cl...|    IBM|             Mumbai|        05-Oct|Consulting, Machi...|\n",
      "|Cognitive/AI Seni...|    IBM|Bangalore/Bengaluru|        04-Aug|Automation, Consu...|\n",
      "|Mid Level Data Sc...|    IBM|          Ahmedabad|        05-Aug|data science, Mac...|\n",
      "|      Data Scientist|    IBM|       Kochi/Cochin|        04-Aug|Software design, ...|\n",
      "|Data Scientist: A...|    IBM|Bangalore/Bengaluru|        02-May|Interpersonal ski...|\n",
      "|Data Scientist: A...|    IBM|Bangalore/Bengaluru|        03-Jul|Data migration, M...|\n",
      "|Data Scientist: A...|    IBM|Bangalore/Bengaluru|        03-Jul|Data migration, M...|\n",
      "|      Data Scientist|    IBM|Bangalore/Bengaluru|        08-Dec|Unix, VMware, Net...|\n",
      "|      Data Scientist|    IBM|       Kochi/Cochin|        08-Dec|Computer science,...|\n",
      "+--------------------+-------+-------------------+--------------+--------------------+\n",
      "only showing top 10 rows"
     ]
    }
   ],
   "source": [
    "# Filter using col.\n",
    "jobsDf.filter(col(\"Company\") == \"IBM\").show(10) "
   ]
  },
  {
   "cell_type": "code",
   "execution_count": 21,
   "id": "b52c8293-5975-47c1-ae92-0fba654529ad",
   "metadata": {
    "execution": {
     "iopub.execute_input": "2022-08-27T07:28:56.341737Z",
     "iopub.status.busy": "2022-08-27T07:28:56.341424Z",
     "iopub.status.idle": "2022-08-27T07:29:03.663822Z",
     "shell.execute_reply": "2022-08-27T07:29:03.663102Z",
     "shell.execute_reply.started": "2022-08-27T07:28:56.341691Z"
    }
   },
   "outputs": [
    {
     "data": {
      "application/vnd.jupyter.widget-view+json": {
       "model_id": "bee40b2ea4a742cd91bcd03a0af518f1",
       "version_major": 2,
       "version_minor": 0
      },
      "text/plain": [
       "VBox()"
      ]
     },
     "metadata": {},
     "output_type": "display_data"
    },
    {
     "data": {
      "application/vnd.jupyter.widget-view+json": {
       "model_id": "",
       "version_major": 2,
       "version_minor": 0
      },
      "text/plain": [
       "FloatProgress(value=0.0, bar_style='info', description='Progress:', layout=Layout(height='25px', width='50%'),…"
      ]
     },
     "metadata": {},
     "output_type": "display_data"
    },
    {
     "name": "stdout",
     "output_type": "stream",
     "text": [
      "+--------------------+-----------------+--------------------+--------------+--------------------+-----+\n",
      "|            Job_Role|          Company|            Location|Job_Experience|Skills_&_Description|Month|\n",
      "+--------------------+-----------------+--------------------+--------------+--------------------+-----+\n",
      "|Data Scientist: A...|              IBM| Bangalore/Bengaluru|        06-Nov|Scheduling, big d...|  Nov|\n",
      "|Staff Data Scientist|          Walmart| Bangalore/Bengaluru|        04-Aug|IT Skills, Data S...|  Aug|\n",
      "|Data Scientist-Cl...|              IBM|              Mumbai|        05-Oct|Consulting, Machi...|  Oct|\n",
      "|Senior Data Scien...|          Walmart| Bangalore/Bengaluru|        05-Oct|IT Skills, Testin...|  Oct|\n",
      "|Cognitive/AI Seni...|              IBM| Bangalore/Bengaluru|        04-Aug|Automation, Consu...|  Aug|\n",
      "|Lead - Data Scien...|Applied Materials| Bangalore/Bengaluru|        Oct-15|data science, Jav...|   15|\n",
      "|Sr NLP & Text Min...|   Evolent Health|                Pune|        02-Jun|Business Intellig...|  Jun|\n",
      "|  Sr. Data Scientist|          Invesco|Hyderabad/Secunde...|        05-Oct|analytical projec...|  Oct|\n",
      "|Digital-Senior Pr...|           eClerx|                Pune|        Aug-13|data visualizatio...|   13|\n",
      "|Senior Data Scien...|ICERTIS Solutions|                Pune|        10-Dec|IT Skills, Python...|  Dec|\n",
      "+--------------------+-----------------+--------------------+--------------+--------------------+-----+\n",
      "only showing top 10 rows"
     ]
    }
   ],
   "source": [
    "# Split and a new column\n",
    "jobsDf.withColumn('Month', split(jobsDf['Job_Experience'], '-').getItem(1)).show(10)"
   ]
  },
  {
   "cell_type": "code",
   "execution_count": 58,
   "id": "05bdc527-3b4a-4631-bfb5-434016048966",
   "metadata": {
    "execution": {
     "iopub.execute_input": "2022-08-27T09:09:07.971400Z",
     "iopub.status.busy": "2022-08-27T09:09:07.971172Z",
     "iopub.status.idle": "2022-08-27T09:09:08.747342Z",
     "shell.execute_reply": "2022-08-27T09:09:08.746659Z",
     "shell.execute_reply.started": "2022-08-27T09:09:07.971377Z"
    }
   },
   "outputs": [
    {
     "data": {
      "application/vnd.jupyter.widget-view+json": {
       "model_id": "d66ca66119294c50b636fba102079330",
       "version_major": 2,
       "version_minor": 0
      },
      "text/plain": [
       "VBox()"
      ]
     },
     "metadata": {},
     "output_type": "display_data"
    },
    {
     "data": {
      "application/vnd.jupyter.widget-view+json": {
       "model_id": "",
       "version_major": 2,
       "version_minor": 0
      },
      "text/plain": [
       "FloatProgress(value=0.0, bar_style='info', description='Progress:', layout=Layout(height='25px', width='50%'),…"
      ]
     },
     "metadata": {},
     "output_type": "display_data"
    },
    {
     "name": "stdout",
     "output_type": "stream",
     "text": [
      "+--------------------+--------------------+--------------------+--------------+--------------------+\n",
      "|            Job_Role|             Company|            Location|Job_Experience|Skills_&_Description|\n",
      "+--------------------+--------------------+--------------------+--------------+--------------------+\n",
      "|Full Stack Developer|            01MARCOM|           Bengaluru|        10-Dec|jQuery, RDBMS, My...|\n",
      "|Senior Data Engineer|11Milliondream Co...|             Chennai|       05-Sept|Spark, AWS, Scala...|\n",
      "|  BI Support Analyst|18 Steps Consultants|        Kochi/Cochin|           0-5|remote access, da...|\n",
      "|Principal Data Sc...|             24 7 ai| Bangalore/Bengaluru|        Aug-13|IT Skills, Java, ...|\n",
      "|Software Developm...|             24 7 ai| Bangalore/Bengaluru|       06-Sept|HTML 5, scrum, Ja...|\n",
      "|Senior Customer E...|        24-7 Intouch|Hyderabad/Secunde...|        04-Jun|BPO, process impr...|\n",
      "|Senior Business P...|        24-7 Intouch|Hyderabad/Secunde...|        04-Jun|tableau, Artifici...|\n",
      "|      Data Scientist|               2Base|Kochi/Cochin, Pal...|        04-Aug|      Data Scientist|\n",
      "|Big Data Engineer...|               2Coms|Bangalore/Bengalu...|        06-Nov|Kafka Solutions S...|\n",
      "|Big Data Engineer...|               2Coms|Bangalore/Bengalu...|        02-Jul|bigdata, data ana...|\n",
      "+--------------------+--------------------+--------------------+--------------+--------------------+\n",
      "only showing top 10 rows"
     ]
    }
   ],
   "source": [
    "jobsDf.sort(\"Company\",\"Location\").show(10)"
   ]
  },
  {
   "cell_type": "code",
   "execution_count": null,
   "id": "8672f0dc-6995-4b8b-a58b-740f7bd194cc",
   "metadata": {},
   "outputs": [],
   "source": []
  },
  {
   "cell_type": "code",
   "execution_count": 22,
   "id": "abf99a80-ac7a-4da6-9b6d-ec7c1dda629a",
   "metadata": {
    "execution": {
     "iopub.execute_input": "2022-08-27T07:37:32.978573Z",
     "iopub.status.busy": "2022-08-27T07:37:32.978350Z",
     "iopub.status.idle": "2022-08-27T07:37:33.041083Z",
     "shell.execute_reply": "2022-08-27T07:37:33.040370Z",
     "shell.execute_reply.started": "2022-08-27T07:37:32.978550Z"
    }
   },
   "outputs": [
    {
     "data": {
      "application/vnd.jupyter.widget-view+json": {
       "model_id": "d08f9058d78d4f5aa0311e1507f3fce1",
       "version_major": 2,
       "version_minor": 0
      },
      "text/plain": [
       "VBox()"
      ]
     },
     "metadata": {},
     "output_type": "display_data"
    },
    {
     "data": {
      "application/vnd.jupyter.widget-view+json": {
       "model_id": "",
       "version_major": 2,
       "version_minor": 0
      },
      "text/plain": [
       "FloatProgress(value=0.0, bar_style='info', description='Progress:', layout=Layout(height='25px', width='50%'),…"
      ]
     },
     "metadata": {},
     "output_type": "display_data"
    }
   ],
   "source": [
    "slen = udf(lambda s: len(s), IntegerType())"
   ]
  },
  {
   "cell_type": "code",
   "execution_count": 23,
   "id": "fa1c37cd-ad0a-4a92-a402-5961aee105ed",
   "metadata": {
    "execution": {
     "iopub.execute_input": "2022-08-27T07:37:50.838365Z",
     "iopub.status.busy": "2022-08-27T07:37:50.838137Z",
     "iopub.status.idle": "2022-08-27T07:37:50.901296Z",
     "shell.execute_reply": "2022-08-27T07:37:50.900580Z",
     "shell.execute_reply.started": "2022-08-27T07:37:50.838341Z"
    }
   },
   "outputs": [
    {
     "data": {
      "application/vnd.jupyter.widget-view+json": {
       "model_id": "de4346809aae4a4a8b5e2a7bc20156f7",
       "version_major": 2,
       "version_minor": 0
      },
      "text/plain": [
       "VBox()"
      ]
     },
     "metadata": {},
     "output_type": "display_data"
    },
    {
     "data": {
      "application/vnd.jupyter.widget-view+json": {
       "model_id": "",
       "version_major": 2,
       "version_minor": 0
      },
      "text/plain": [
       "FloatProgress(value=0.0, bar_style='info', description='Progress:', layout=Layout(height='25px', width='50%'),…"
      ]
     },
     "metadata": {},
     "output_type": "display_data"
    }
   ],
   "source": [
    "@udf\n",
    "def to_upper(s):\n",
    "    if s is not None:\n",
    "        return s.upper()"
   ]
  },
  {
   "cell_type": "code",
   "execution_count": 24,
   "id": "1e8db249-7bbb-435c-9f3c-8cabce882a47",
   "metadata": {
    "execution": {
     "iopub.execute_input": "2022-08-27T07:38:21.918397Z",
     "iopub.status.busy": "2022-08-27T07:38:21.918169Z",
     "iopub.status.idle": "2022-08-27T07:38:21.977464Z",
     "shell.execute_reply": "2022-08-27T07:38:21.976919Z",
     "shell.execute_reply.started": "2022-08-27T07:38:21.918374Z"
    }
   },
   "outputs": [
    {
     "data": {
      "application/vnd.jupyter.widget-view+json": {
       "model_id": "a2b25d603b054d1f8a06306c868c312b",
       "version_major": 2,
       "version_minor": 0
      },
      "text/plain": [
       "VBox()"
      ]
     },
     "metadata": {},
     "output_type": "display_data"
    },
    {
     "data": {
      "application/vnd.jupyter.widget-view+json": {
       "model_id": "",
       "version_major": 2,
       "version_minor": 0
      },
      "text/plain": [
       "FloatProgress(value=0.0, bar_style='info', description='Progress:', layout=Layout(height='25px', width='50%'),…"
      ]
     },
     "metadata": {},
     "output_type": "display_data"
    }
   ],
   "source": [
    "@udf(returnType=IntegerType())\n",
    "def add_40_to_age(x):\n",
    "    if x is not None:\n",
    "        return x + 40"
   ]
  },
  {
   "cell_type": "code",
   "execution_count": 25,
   "id": "ad5139e0-fc2c-4ad7-b02c-d6cf00929da3",
   "metadata": {
    "execution": {
     "iopub.execute_input": "2022-08-27T07:38:40.928047Z",
     "iopub.status.busy": "2022-08-27T07:38:40.927821Z",
     "iopub.status.idle": "2022-08-27T07:38:41.201692Z",
     "shell.execute_reply": "2022-08-27T07:38:41.200996Z",
     "shell.execute_reply.started": "2022-08-27T07:38:40.928023Z"
    }
   },
   "outputs": [
    {
     "data": {
      "application/vnd.jupyter.widget-view+json": {
       "model_id": "14fbe21b143d4b71b828bf232c0cc3cb",
       "version_major": 2,
       "version_minor": 0
      },
      "text/plain": [
       "VBox()"
      ]
     },
     "metadata": {},
     "output_type": "display_data"
    },
    {
     "data": {
      "application/vnd.jupyter.widget-view+json": {
       "model_id": "",
       "version_major": 2,
       "version_minor": 0
      },
      "text/plain": [
       "FloatProgress(value=0.0, bar_style='info', description='Progress:', layout=Layout(height='25px', width='50%'),…"
      ]
     },
     "metadata": {},
     "output_type": "display_data"
    }
   ],
   "source": [
    "df = spark.createDataFrame([(1, \"John Doe\", 21)], (\"id\", \"name\", \"age\"))"
   ]
  },
  {
   "cell_type": "code",
   "execution_count": 27,
   "id": "fbf043e2-de5b-40d7-81dd-4403207bb6b6",
   "metadata": {
    "execution": {
     "iopub.execute_input": "2022-08-27T07:52:54.838679Z",
     "iopub.status.busy": "2022-08-27T07:52:54.838449Z",
     "iopub.status.idle": "2022-08-27T07:53:04.185442Z",
     "shell.execute_reply": "2022-08-27T07:53:04.184755Z",
     "shell.execute_reply.started": "2022-08-27T07:52:54.838654Z"
    },
    "tags": []
   },
   "outputs": [
    {
     "data": {
      "application/vnd.jupyter.widget-view+json": {
       "model_id": "224a0b5ec74a4656ad40bcb63d249466",
       "version_major": 2,
       "version_minor": 0
      },
      "text/plain": [
       "VBox()"
      ]
     },
     "metadata": {},
     "output_type": "display_data"
    },
    {
     "data": {
      "application/vnd.jupyter.widget-view+json": {
       "model_id": "",
       "version_major": 2,
       "version_minor": 0
      },
      "text/plain": [
       "FloatProgress(value=0.0, bar_style='info', description='Progress:', layout=Layout(height='25px', width='50%'),…"
      ]
     },
     "metadata": {},
     "output_type": "display_data"
    },
    {
     "name": "stdout",
     "output_type": "stream",
     "text": [
      "+----------+--------------+------------------+\n",
      "|slen(name)|to_upper(name)|add_40_to_age(age)|\n",
      "+----------+--------------+------------------+\n",
      "|         8|      JOHN DOE|                61|\n",
      "+----------+--------------+------------------+"
     ]
    }
   ],
   "source": [
    "df.select(slen(\"name\").alias(\"slen(name)\"), to_upper(\"name\"), add_40_to_age(\"age\")).show()"
   ]
  },
  {
   "cell_type": "code",
   "execution_count": 28,
   "id": "97cf8a4e-9811-465d-92aa-4198ad24d999",
   "metadata": {
    "execution": {
     "iopub.execute_input": "2022-08-27T08:13:11.852381Z",
     "iopub.status.busy": "2022-08-27T08:13:11.852141Z",
     "iopub.status.idle": "2022-08-27T08:13:12.139982Z",
     "shell.execute_reply": "2022-08-27T08:13:12.139078Z",
     "shell.execute_reply.started": "2022-08-27T08:13:11.852356Z"
    }
   },
   "outputs": [
    {
     "data": {
      "application/vnd.jupyter.widget-view+json": {
       "model_id": "7754bbaa99b54aa29b96a8bb0677726b",
       "version_major": 2,
       "version_minor": 0
      },
      "text/plain": [
       "VBox()"
      ]
     },
     "metadata": {},
     "output_type": "display_data"
    },
    {
     "data": {
      "application/vnd.jupyter.widget-view+json": {
       "model_id": "",
       "version_major": 2,
       "version_minor": 0
      },
      "text/plain": [
       "FloatProgress(value=0.0, bar_style='info', description='Progress:', layout=Layout(height='25px', width='50%'),…"
      ]
     },
     "metadata": {},
     "output_type": "display_data"
    }
   ],
   "source": [
    "timeStampDF=spark.createDataFrame(\n",
    "        data = [ (\"1\",\"2019-06-24 12:01:19.000\")],\n",
    "        schema=[\"id\",\"input_timestamp\"])"
   ]
  },
  {
   "cell_type": "code",
   "execution_count": 29,
   "id": "dc793b78-1b22-4c64-9fd0-be495ca1ec4c",
   "metadata": {
    "execution": {
     "iopub.execute_input": "2022-08-27T08:15:33.082116Z",
     "iopub.status.busy": "2022-08-27T08:15:33.081794Z",
     "iopub.status.idle": "2022-08-27T08:15:33.157253Z",
     "shell.execute_reply": "2022-08-27T08:15:33.156635Z",
     "shell.execute_reply.started": "2022-08-27T08:15:33.082080Z"
    }
   },
   "outputs": [
    {
     "data": {
      "application/vnd.jupyter.widget-view+json": {
       "model_id": "ab0a98561d39419788ea3886837da2a6",
       "version_major": 2,
       "version_minor": 0
      },
      "text/plain": [
       "VBox()"
      ]
     },
     "metadata": {},
     "output_type": "display_data"
    },
    {
     "data": {
      "application/vnd.jupyter.widget-view+json": {
       "model_id": "",
       "version_major": 2,
       "version_minor": 0
      },
      "text/plain": [
       "FloatProgress(value=0.0, bar_style='info', description='Progress:', layout=Layout(height='25px', width='50%'),…"
      ]
     },
     "metadata": {},
     "output_type": "display_data"
    },
    {
     "name": "stdout",
     "output_type": "stream",
     "text": [
      "root\n",
      " |-- id: string (nullable = true)\n",
      " |-- input_timestamp: string (nullable = true)"
     ]
    }
   ],
   "source": [
    "timeStampDF.printSchema()"
   ]
  },
  {
   "cell_type": "code",
   "execution_count": 39,
   "id": "070aa7a5-f534-4adf-97ad-58c85792e47b",
   "metadata": {
    "execution": {
     "iopub.execute_input": "2022-08-27T08:18:44.914129Z",
     "iopub.status.busy": "2022-08-27T08:18:44.913907Z",
     "iopub.status.idle": "2022-08-27T08:18:54.244784Z",
     "shell.execute_reply": "2022-08-27T08:18:54.244190Z",
     "shell.execute_reply.started": "2022-08-27T08:18:44.914105Z"
    },
    "tags": []
   },
   "outputs": [
    {
     "data": {
      "application/vnd.jupyter.widget-view+json": {
       "model_id": "799c2a9ca57141e5b0d3d98debbb5a93",
       "version_major": 2,
       "version_minor": 0
      },
      "text/plain": [
       "VBox()"
      ]
     },
     "metadata": {},
     "output_type": "display_data"
    },
    {
     "data": {
      "application/vnd.jupyter.widget-view+json": {
       "model_id": "",
       "version_major": 2,
       "version_minor": 0
      },
      "text/plain": [
       "FloatProgress(value=0.0, bar_style='info', description='Progress:', layout=Layout(height='25px', width='50%'),…"
      ]
     },
     "metadata": {},
     "output_type": "display_data"
    },
    {
     "name": "stdout",
     "output_type": "stream",
     "text": [
      "root\n",
      " |-- id: string (nullable = true)\n",
      " |-- input_timestamp: string (nullable = true)\n",
      " |-- timestamp: timestamp (nullable = true)\n",
      "\n",
      "+---+--------------------+-------------------+\n",
      "| id|     input_timestamp|          timestamp|\n",
      "+---+--------------------+-------------------+\n",
      "|  1|2019-06-24 12:01:...|2019-06-24 12:01:19|\n",
      "+---+--------------------+-------------------+"
     ]
    }
   ],
   "source": [
    "modifiedDF = timeStampDF.withColumn(\"timestamp\",to_timestamp(\"input_timestamp\"))\n",
    "modifiedDF.printSchema()\n",
    "modifiedDF.show()\n"
   ]
  },
  {
   "cell_type": "code",
   "execution_count": 41,
   "id": "9d0d5346-74cf-4ef3-8657-abdec9a8645e",
   "metadata": {
    "execution": {
     "iopub.execute_input": "2022-08-27T08:57:16.812509Z",
     "iopub.status.busy": "2022-08-27T08:57:16.812275Z",
     "iopub.status.idle": "2022-08-27T08:57:16.871721Z",
     "shell.execute_reply": "2022-08-27T08:57:16.870982Z",
     "shell.execute_reply.started": "2022-08-27T08:57:16.812485Z"
    },
    "tags": []
   },
   "outputs": [
    {
     "data": {
      "application/vnd.jupyter.widget-view+json": {
       "model_id": "52dbf93c2e564e65b7cf2685a256f396",
       "version_major": 2,
       "version_minor": 0
      },
      "text/plain": [
       "VBox()"
      ]
     },
     "metadata": {},
     "output_type": "display_data"
    },
    {
     "data": {
      "application/vnd.jupyter.widget-view+json": {
       "model_id": "",
       "version_major": 2,
       "version_minor": 0
      },
      "text/plain": [
       "FloatProgress(value=0.0, bar_style='info', description='Progress:', layout=Layout(height='25px', width='50%'),…"
      ]
     },
     "metadata": {},
     "output_type": "display_data"
    }
   ],
   "source": [
    "emp = [(1,\"Susmit\",-1,\"2018\",\"10\",\"M\",3000), \\\n",
    "    (2,\"Akash\",1,\"2010\",\"20\",\"M\",8000), \\\n",
    "    (3,\"Rony\",1,\"2010\",\"10\",\"M\",1000), \\\n",
    "    (4,\"Doe\",2,\"2008\",\"10\",\"F\",9000), \\\n",
    "    (5,\"Raj\",2,\"20107\",\"40\",\"\",-1), \\\n",
    "      (6,\"Rahul\",2,\"2003\",\"50\",\"\",-1) \\\n",
    "  ]\n",
    "empColumns = [\"emp_id\",\"name\",\"superior_emp_id\",\"year_joined\", \\\n",
    "       \"emp_dept_id\",\"gender\",\"salary\"]"
   ]
  },
  {
   "cell_type": "code",
   "execution_count": 42,
   "id": "b28663e7-3b83-4cc2-9a39-c64688f4c5eb",
   "metadata": {
    "execution": {
     "iopub.execute_input": "2022-08-27T08:57:19.578662Z",
     "iopub.status.busy": "2022-08-27T08:57:19.578434Z",
     "iopub.status.idle": "2022-08-27T08:57:28.881813Z",
     "shell.execute_reply": "2022-08-27T08:57:28.881103Z",
     "shell.execute_reply.started": "2022-08-27T08:57:19.578636Z"
    }
   },
   "outputs": [
    {
     "data": {
      "application/vnd.jupyter.widget-view+json": {
       "model_id": "54019b647dff4e389c9bbb7fda050a2b",
       "version_major": 2,
       "version_minor": 0
      },
      "text/plain": [
       "VBox()"
      ]
     },
     "metadata": {},
     "output_type": "display_data"
    },
    {
     "data": {
      "application/vnd.jupyter.widget-view+json": {
       "model_id": "",
       "version_major": 2,
       "version_minor": 0
      },
      "text/plain": [
       "FloatProgress(value=0.0, bar_style='info', description='Progress:', layout=Layout(height='25px', width='50%'),…"
      ]
     },
     "metadata": {},
     "output_type": "display_data"
    },
    {
     "name": "stdout",
     "output_type": "stream",
     "text": [
      "root\n",
      " |-- emp_id: long (nullable = true)\n",
      " |-- name: string (nullable = true)\n",
      " |-- superior_emp_id: long (nullable = true)\n",
      " |-- year_joined: string (nullable = true)\n",
      " |-- emp_dept_id: string (nullable = true)\n",
      " |-- gender: string (nullable = true)\n",
      " |-- salary: long (nullable = true)\n",
      "\n",
      "+------+------+---------------+-----------+-----------+------+------+\n",
      "|emp_id|  name|superior_emp_id|year_joined|emp_dept_id|gender|salary|\n",
      "+------+------+---------------+-----------+-----------+------+------+\n",
      "|     1|Susmit|             -1|       2018|         10|     M|  3000|\n",
      "|     2| Akash|              1|       2010|         20|     M|  8000|\n",
      "|     3|  Rony|              1|       2010|         10|     M|  1000|\n",
      "|     4|   Doe|              2|       2008|         10|     F|  9000|\n",
      "|     5|   Raj|              2|      20107|         40|      |    -1|\n",
      "|     6| Rahul|              2|       2003|         50|      |    -1|\n",
      "+------+------+---------------+-----------+-----------+------+------+"
     ]
    }
   ],
   "source": [
    "empDF = spark.createDataFrame(data=emp, schema = empColumns)\n",
    "empDF.printSchema()\n",
    "empDF.show()"
   ]
  },
  {
   "cell_type": "code",
   "execution_count": 43,
   "id": "26caaa55-fadf-4e9d-a8a6-f4935d915502",
   "metadata": {
    "execution": {
     "iopub.execute_input": "2022-08-27T08:57:44.021497Z",
     "iopub.status.busy": "2022-08-27T08:57:44.021268Z",
     "iopub.status.idle": "2022-08-27T08:57:44.072947Z",
     "shell.execute_reply": "2022-08-27T08:57:44.072388Z",
     "shell.execute_reply.started": "2022-08-27T08:57:44.021474Z"
    }
   },
   "outputs": [
    {
     "data": {
      "application/vnd.jupyter.widget-view+json": {
       "model_id": "2b0a031f25e84661842861689e557b8b",
       "version_major": 2,
       "version_minor": 0
      },
      "text/plain": [
       "VBox()"
      ]
     },
     "metadata": {},
     "output_type": "display_data"
    },
    {
     "data": {
      "application/vnd.jupyter.widget-view+json": {
       "model_id": "",
       "version_major": 2,
       "version_minor": 0
      },
      "text/plain": [
       "FloatProgress(value=0.0, bar_style='info', description='Progress:', layout=Layout(height='25px', width='50%'),…"
      ]
     },
     "metadata": {},
     "output_type": "display_data"
    }
   ],
   "source": [
    "dept = [(\"Finance\",10), \\\n",
    "    (\"Marketing\",20), \\\n",
    "    (\"Sales\",30), \\\n",
    "    (\"IT\",40) \\\n",
    "  ]\n",
    "deptColumns = [\"dept_name\",\"dept_id\"]"
   ]
  },
  {
   "cell_type": "code",
   "execution_count": 44,
   "id": "7c9e348c-401b-48d4-a8d3-72056b23829f",
   "metadata": {
    "execution": {
     "iopub.execute_input": "2022-08-27T08:57:48.012751Z",
     "iopub.status.busy": "2022-08-27T08:57:48.012517Z",
     "iopub.status.idle": "2022-08-27T08:57:48.793701Z",
     "shell.execute_reply": "2022-08-27T08:57:48.792873Z",
     "shell.execute_reply.started": "2022-08-27T08:57:48.012726Z"
    }
   },
   "outputs": [
    {
     "data": {
      "application/vnd.jupyter.widget-view+json": {
       "model_id": "33af942461364be6afe13fe1da814a05",
       "version_major": 2,
       "version_minor": 0
      },
      "text/plain": [
       "VBox()"
      ]
     },
     "metadata": {},
     "output_type": "display_data"
    },
    {
     "data": {
      "application/vnd.jupyter.widget-view+json": {
       "model_id": "",
       "version_major": 2,
       "version_minor": 0
      },
      "text/plain": [
       "FloatProgress(value=0.0, bar_style='info', description='Progress:', layout=Layout(height='25px', width='50%'),…"
      ]
     },
     "metadata": {},
     "output_type": "display_data"
    },
    {
     "name": "stdout",
     "output_type": "stream",
     "text": [
      "root\n",
      " |-- dept_name: string (nullable = true)\n",
      " |-- dept_id: long (nullable = true)\n",
      "\n",
      "+---------+-------+\n",
      "|dept_name|dept_id|\n",
      "+---------+-------+\n",
      "|Finance  |10     |\n",
      "|Marketing|20     |\n",
      "|Sales    |30     |\n",
      "|IT       |40     |\n",
      "+---------+-------+"
     ]
    }
   ],
   "source": [
    "deptColumns = [\"dept_name\",\"dept_id\"]\n",
    "deptDF = spark.createDataFrame(data=dept, schema = deptColumns)\n",
    "deptDF.printSchema()\n",
    "deptDF.show(truncate=False)"
   ]
  },
  {
   "cell_type": "code",
   "execution_count": 45,
   "id": "d8792934-4cf9-4d2f-afb2-1a7b717f20da",
   "metadata": {
    "execution": {
     "iopub.execute_input": "2022-08-27T08:58:11.999005Z",
     "iopub.status.busy": "2022-08-27T08:58:11.998770Z",
     "iopub.status.idle": "2022-08-27T08:58:14.293168Z",
     "shell.execute_reply": "2022-08-27T08:58:14.292413Z",
     "shell.execute_reply.started": "2022-08-27T08:58:11.998979Z"
    }
   },
   "outputs": [
    {
     "data": {
      "application/vnd.jupyter.widget-view+json": {
       "model_id": "c319276bdf40412f95ef58ed7b7a6f4d",
       "version_major": 2,
       "version_minor": 0
      },
      "text/plain": [
       "VBox()"
      ]
     },
     "metadata": {},
     "output_type": "display_data"
    },
    {
     "data": {
      "application/vnd.jupyter.widget-view+json": {
       "model_id": "",
       "version_major": 2,
       "version_minor": 0
      },
      "text/plain": [
       "FloatProgress(value=0.0, bar_style='info', description='Progress:', layout=Layout(height='25px', width='50%'),…"
      ]
     },
     "metadata": {},
     "output_type": "display_data"
    },
    {
     "name": "stdout",
     "output_type": "stream",
     "text": [
      "+------+------+---------------+-----------+-----------+------+------+---------+-------+\n",
      "|emp_id|  name|superior_emp_id|year_joined|emp_dept_id|gender|salary|dept_name|dept_id|\n",
      "+------+------+---------------+-----------+-----------+------+------+---------+-------+\n",
      "|     4|   Doe|              2|       2008|         10|     F|  9000|  Finance|     10|\n",
      "|     3|  Rony|              1|       2010|         10|     M|  1000|  Finance|     10|\n",
      "|     1|Susmit|             -1|       2018|         10|     M|  3000|  Finance|     10|\n",
      "|     2| Akash|              1|       2010|         20|     M|  8000|Marketing|     20|\n",
      "|     5|   Raj|              2|      20107|         40|      |    -1|       IT|     40|\n",
      "+------+------+---------------+-----------+-----------+------+------+---------+-------+"
     ]
    }
   ],
   "source": [
    "empDF.join(deptDF,empDF.emp_dept_id ==  deptDF.dept_id,\"inner\").show()"
   ]
  },
  {
   "cell_type": "code",
   "execution_count": 46,
   "id": "bf4c7d1d-9fc0-4d74-9f2d-b0932cc94194",
   "metadata": {
    "execution": {
     "iopub.execute_input": "2022-08-27T08:58:49.778159Z",
     "iopub.status.busy": "2022-08-27T08:58:49.777923Z",
     "iopub.status.idle": "2022-08-27T08:58:55.226690Z",
     "shell.execute_reply": "2022-08-27T08:58:55.226099Z",
     "shell.execute_reply.started": "2022-08-27T08:58:49.778133Z"
    }
   },
   "outputs": [
    {
     "data": {
      "application/vnd.jupyter.widget-view+json": {
       "model_id": "da5ad130cc7f4584a56d967b37b458ac",
       "version_major": 2,
       "version_minor": 0
      },
      "text/plain": [
       "VBox()"
      ]
     },
     "metadata": {},
     "output_type": "display_data"
    },
    {
     "data": {
      "application/vnd.jupyter.widget-view+json": {
       "model_id": "",
       "version_major": 2,
       "version_minor": 0
      },
      "text/plain": [
       "FloatProgress(value=0.0, bar_style='info', description='Progress:', layout=Layout(height='25px', width='50%'),…"
      ]
     },
     "metadata": {},
     "output_type": "display_data"
    },
    {
     "name": "stdout",
     "output_type": "stream",
     "text": [
      "+------+------+---------------+-----------+-----------+------+------+---------+-------+\n",
      "|emp_id|  name|superior_emp_id|year_joined|emp_dept_id|gender|salary|dept_name|dept_id|\n",
      "+------+------+---------------+-----------+-----------+------+------+---------+-------+\n",
      "|     5|   Raj|              2|      20107|         40|      |    -1|       IT|     40|\n",
      "|     6| Rahul|              2|       2003|         50|      |    -1|     null|   null|\n",
      "|     1|Susmit|             -1|       2018|         10|     M|  3000|  Finance|     10|\n",
      "|     3|  Rony|              1|       2010|         10|     M|  1000|  Finance|     10|\n",
      "|     4|   Doe|              2|       2008|         10|     F|  9000|  Finance|     10|\n",
      "|  null|  null|           null|       null|       null|  null|  null|    Sales|     30|\n",
      "|     2| Akash|              1|       2010|         20|     M|  8000|Marketing|     20|\n",
      "+------+------+---------------+-----------+-----------+------+------+---------+-------+\n",
      "\n",
      "+------+------+---------------+-----------+-----------+------+------+---------+-------+\n",
      "|emp_id|name  |superior_emp_id|year_joined|emp_dept_id|gender|salary|dept_name|dept_id|\n",
      "+------+------+---------------+-----------+-----------+------+------+---------+-------+\n",
      "|5     |Raj   |2              |20107      |40         |      |-1    |IT       |40     |\n",
      "|6     |Rahul |2              |2003       |50         |      |-1    |null     |null   |\n",
      "|1     |Susmit|-1             |2018       |10         |M     |3000  |Finance  |10     |\n",
      "|3     |Rony  |1              |2010       |10         |M     |1000  |Finance  |10     |\n",
      "|4     |Doe   |2              |2008       |10         |F     |9000  |Finance  |10     |\n",
      "|null  |null  |null           |null       |null       |null  |null  |Sales    |30     |\n",
      "|2     |Akash |1              |2010       |20         |M     |8000  |Marketing|20     |\n",
      "+------+------+---------------+-----------+-----------+------+------+---------+-------+\n",
      "\n",
      "+------+------+---------------+-----------+-----------+------+------+---------+-------+\n",
      "|emp_id|name  |superior_emp_id|year_joined|emp_dept_id|gender|salary|dept_name|dept_id|\n",
      "+------+------+---------------+-----------+-----------+------+------+---------+-------+\n",
      "|5     |Raj   |2              |20107      |40         |      |-1    |IT       |40     |\n",
      "|6     |Rahul |2              |2003       |50         |      |-1    |null     |null   |\n",
      "|1     |Susmit|-1             |2018       |10         |M     |3000  |Finance  |10     |\n",
      "|3     |Rony  |1              |2010       |10         |M     |1000  |Finance  |10     |\n",
      "|4     |Doe   |2              |2008       |10         |F     |9000  |Finance  |10     |\n",
      "|null  |null  |null           |null       |null       |null  |null  |Sales    |30     |\n",
      "|2     |Akash |1              |2010       |20         |M     |8000  |Marketing|20     |\n",
      "+------+------+---------------+-----------+-----------+------+------+---------+-------+"
     ]
    }
   ],
   "source": [
    "empDF.join(deptDF,empDF.emp_dept_id ==  deptDF.dept_id,\"outer\").show()\n",
    "empDF.join(deptDF,empDF.emp_dept_id ==  deptDF.dept_id,\"full\").show(truncate=False)\n",
    "empDF.join(deptDF,empDF.emp_dept_id ==  deptDF.dept_id,\"fullouter\").show(truncate=False)"
   ]
  },
  {
   "cell_type": "code",
   "execution_count": 47,
   "id": "fa367b0f-153f-49c6-bd51-873ad8948eff",
   "metadata": {
    "execution": {
     "iopub.execute_input": "2022-08-27T08:59:11.185283Z",
     "iopub.status.busy": "2022-08-27T08:59:11.185054Z",
     "iopub.status.idle": "2022-08-27T08:59:11.971625Z",
     "shell.execute_reply": "2022-08-27T08:59:11.970656Z",
     "shell.execute_reply.started": "2022-08-27T08:59:11.185259Z"
    }
   },
   "outputs": [
    {
     "data": {
      "application/vnd.jupyter.widget-view+json": {
       "model_id": "95bb5791603942298817e717532925b4",
       "version_major": 2,
       "version_minor": 0
      },
      "text/plain": [
       "VBox()"
      ]
     },
     "metadata": {},
     "output_type": "display_data"
    },
    {
     "data": {
      "application/vnd.jupyter.widget-view+json": {
       "model_id": "",
       "version_major": 2,
       "version_minor": 0
      },
      "text/plain": [
       "FloatProgress(value=0.0, bar_style='info', description='Progress:', layout=Layout(height='25px', width='50%'),…"
      ]
     },
     "metadata": {},
     "output_type": "display_data"
    },
    {
     "name": "stdout",
     "output_type": "stream",
     "text": [
      "+------+------+---------------+-----------+-----------+------+------+\n",
      "|emp_id|name  |superior_emp_id|year_joined|emp_dept_id|gender|salary|\n",
      "+------+------+---------------+-----------+-----------+------+------+\n",
      "|1     |Susmit|-1             |2018       |10         |M     |3000  |\n",
      "|3     |Rony  |1              |2010       |10         |M     |1000  |\n",
      "|2     |Akash |1              |2010       |20         |M     |8000  |\n",
      "|5     |Raj   |2              |20107      |40         |      |-1    |\n",
      "|4     |Doe   |2              |2008       |10         |F     |9000  |\n",
      "+------+------+---------------+-----------+-----------+------+------+"
     ]
    }
   ],
   "source": [
    "empDF.join(deptDF,empDF.emp_dept_id ==  deptDF.dept_id,\"leftsemi\") \\\n",
    "   .show(truncate=False)"
   ]
  },
  {
   "cell_type": "code",
   "execution_count": 48,
   "id": "26df6aaa-2501-4d2e-a999-fd7770f6e114",
   "metadata": {
    "execution": {
     "iopub.execute_input": "2022-08-27T08:59:25.286861Z",
     "iopub.status.busy": "2022-08-27T08:59:25.286612Z",
     "iopub.status.idle": "2022-08-27T08:59:26.078029Z",
     "shell.execute_reply": "2022-08-27T08:59:26.077337Z",
     "shell.execute_reply.started": "2022-08-27T08:59:25.286837Z"
    }
   },
   "outputs": [
    {
     "data": {
      "application/vnd.jupyter.widget-view+json": {
       "model_id": "707330b578654bdfb9d7f3a97c7c0188",
       "version_major": 2,
       "version_minor": 0
      },
      "text/plain": [
       "VBox()"
      ]
     },
     "metadata": {},
     "output_type": "display_data"
    },
    {
     "data": {
      "application/vnd.jupyter.widget-view+json": {
       "model_id": "",
       "version_major": 2,
       "version_minor": 0
      },
      "text/plain": [
       "FloatProgress(value=0.0, bar_style='info', description='Progress:', layout=Layout(height='25px', width='50%'),…"
      ]
     },
     "metadata": {},
     "output_type": "display_data"
    },
    {
     "name": "stdout",
     "output_type": "stream",
     "text": [
      "+------+-----+---------------+-----------+-----------+------+------+\n",
      "|emp_id|name |superior_emp_id|year_joined|emp_dept_id|gender|salary|\n",
      "+------+-----+---------------+-----------+-----------+------+------+\n",
      "|6     |Rahul|2              |2003       |50         |      |-1    |\n",
      "+------+-----+---------------+-----------+-----------+------+------+"
     ]
    }
   ],
   "source": [
    "empDF.join(deptDF,empDF.emp_dept_id ==  deptDF.dept_id,\"leftanti\") \\\n",
    "   .show(truncate=False)"
   ]
  },
  {
   "cell_type": "code",
   "execution_count": 49,
   "id": "4c72d7ad-380c-45e2-bc91-952a9ce9002d",
   "metadata": {
    "execution": {
     "iopub.execute_input": "2022-08-27T08:59:52.850995Z",
     "iopub.status.busy": "2022-08-27T08:59:52.850762Z",
     "iopub.status.idle": "2022-08-27T08:59:53.122355Z",
     "shell.execute_reply": "2022-08-27T08:59:53.121694Z",
     "shell.execute_reply.started": "2022-08-27T08:59:52.850971Z"
    }
   },
   "outputs": [
    {
     "data": {
      "application/vnd.jupyter.widget-view+json": {
       "model_id": "5c6bbbeb5ab74780a6ee8934d4cb4aa8",
       "version_major": 2,
       "version_minor": 0
      },
      "text/plain": [
       "VBox()"
      ]
     },
     "metadata": {},
     "output_type": "display_data"
    },
    {
     "data": {
      "application/vnd.jupyter.widget-view+json": {
       "model_id": "",
       "version_major": 2,
       "version_minor": 0
      },
      "text/plain": [
       "FloatProgress(value=0.0, bar_style='info', description='Progress:', layout=Layout(height='25px', width='50%'),…"
      ]
     },
     "metadata": {},
     "output_type": "display_data"
    }
   ],
   "source": [
    "empDF.createOrReplaceTempView(\"EMP_TBL\")\n",
    "deptDF.createOrReplaceTempView(\"DEPT_TBL\")"
   ]
  },
  {
   "cell_type": "code",
   "execution_count": 50,
   "id": "d1fcb203-19a0-4161-943f-5735f1d0bae4",
   "metadata": {
    "execution": {
     "iopub.execute_input": "2022-08-27T09:00:20.110684Z",
     "iopub.status.busy": "2022-08-27T09:00:20.110460Z",
     "iopub.status.idle": "2022-08-27T09:00:22.434828Z",
     "shell.execute_reply": "2022-08-27T09:00:22.434152Z",
     "shell.execute_reply.started": "2022-08-27T09:00:20.110660Z"
    }
   },
   "outputs": [
    {
     "data": {
      "application/vnd.jupyter.widget-view+json": {
       "model_id": "d5b7b2a44bfa4d80944e3a1740a5554f",
       "version_major": 2,
       "version_minor": 0
      },
      "text/plain": [
       "VBox()"
      ]
     },
     "metadata": {},
     "output_type": "display_data"
    },
    {
     "data": {
      "application/vnd.jupyter.widget-view+json": {
       "model_id": "",
       "version_major": 2,
       "version_minor": 0
      },
      "text/plain": [
       "FloatProgress(value=0.0, bar_style='info', description='Progress:', layout=Layout(height='25px', width='50%'),…"
      ]
     },
     "metadata": {},
     "output_type": "display_data"
    },
    {
     "name": "stdout",
     "output_type": "stream",
     "text": [
      "+------+------+---------------+-----------+-----------+------+------+---------+-------+\n",
      "|emp_id|name  |superior_emp_id|year_joined|emp_dept_id|gender|salary|dept_name|dept_id|\n",
      "+------+------+---------------+-----------+-----------+------+------+---------+-------+\n",
      "|1     |Susmit|-1             |2018       |10         |M     |3000  |Finance  |10     |\n",
      "|3     |Rony  |1              |2010       |10         |M     |1000  |Finance  |10     |\n",
      "|2     |Akash |1              |2010       |20         |M     |8000  |Marketing|20     |\n",
      "|5     |Raj   |2              |20107      |40         |      |-1    |IT       |40     |\n",
      "|4     |Doe   |2              |2008       |10         |F     |9000  |Finance  |10     |\n",
      "+------+------+---------------+-----------+-----------+------+------+---------+-------+\n",
      "\n",
      "+------+------+---------------+-----------+-----------+------+------+---------+-------+\n",
      "|emp_id|name  |superior_emp_id|year_joined|emp_dept_id|gender|salary|dept_name|dept_id|\n",
      "+------+------+---------------+-----------+-----------+------+------+---------+-------+\n",
      "|4     |Doe   |2              |2008       |10         |F     |9000  |Finance  |10     |\n",
      "|3     |Rony  |1              |2010       |10         |M     |1000  |Finance  |10     |\n",
      "|1     |Susmit|-1             |2018       |10         |M     |3000  |Finance  |10     |\n",
      "|2     |Akash |1              |2010       |20         |M     |8000  |Marketing|20     |\n",
      "|5     |Raj   |2              |20107      |40         |      |-1    |IT       |40     |\n",
      "+------+------+---------------+-----------+-----------+------+------+---------+-------+"
     ]
    }
   ],
   "source": [
    "joinDF = spark.sql(\"select * from EMP_TBL e, DEPT_TBL d where e.emp_dept_id == d.dept_id\") \\\n",
    "  .show(truncate=False)\n",
    "\n",
    "joinDF2 = spark.sql(\"select * from EMP_TBL e INNER JOIN DEPT_TBL d ON e.emp_dept_id == d.dept_id\") \\\n",
    "  .show(truncate=False)"
   ]
  },
  {
   "cell_type": "code",
   "execution_count": null,
   "id": "2411cc2a-f8cd-44f0-91b6-731720796208",
   "metadata": {},
   "outputs": [],
   "source": []
  }
 ],
 "metadata": {
  "kernelspec": {
   "display_name": "PySpark",
   "language": "python",
   "name": "pysparkkernel"
  },
  "language_info": {
   "codemirror_mode": {
    "name": "python",
    "version": 3
   },
   "file_extension": ".py",
   "mimetype": "text/x-python",
   "name": "pyspark",
   "pygments_lexer": "python3"
  }
 },
 "nbformat": 4,
 "nbformat_minor": 5
}
